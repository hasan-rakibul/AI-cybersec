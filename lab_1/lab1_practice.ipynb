{
  "nbformat": 4,
  "nbformat_minor": 0,
  "metadata": {
    "colab": {
      "provenance": [],
      "gpuType": "T4",
      "mount_file_id": "1THetGNo0pLP8rqpkkO6qrQd2ViObzEk3",
      "authorship_tag": "ABX9TyMn19dtTMdJiis9C1rBc6WP",
      "include_colab_link": true
    },
    "kernelspec": {
      "name": "python3",
      "display_name": "Python 3"
    },
    "language_info": {
      "name": "python"
    }
  },
  "cells": [
    {
      "cell_type": "markdown",
      "metadata": {
        "id": "view-in-github",
        "colab_type": "text"
      },
      "source": [
        "<a href=\"https://colab.research.google.com/github/hasan-rakibul/AI-cybersec/blob/main/lab_1/lab1_practice.ipynb\" target=\"_parent\"><img src=\"https://colab.research.google.com/assets/colab-badge.svg\" alt=\"Open In Colab\"/></a>"
      ]
    },
    {
      "cell_type": "markdown",
      "source": [
        "# Let's run some Python codes"
      ],
      "metadata": {
        "id": "TIFT_oh9sG3O"
      }
    },
    {
      "cell_type": "code",
      "source": [
        "print('Welcome to ...')\n",
        "print('ICT607')"
      ],
      "metadata": {
        "id": "hTQLqPrBJuZn"
      },
      "execution_count": null,
      "outputs": []
    },
    {
      "cell_type": "code",
      "source": [
        "for i in range(1, 10):\n",
        "  print(i)"
      ],
      "metadata": {
        "id": "TxWBVTbpHqda"
      },
      "execution_count": null,
      "outputs": []
    },
    {
      "cell_type": "markdown",
      "source": [
        "# Magic command"
      ],
      "metadata": {
        "id": "qssn6_IJOSJn"
      }
    },
    {
      "cell_type": "markdown",
      "source": [
        "## Check and install package"
      ],
      "metadata": {
        "id": "VTKwiaARcwmd"
      }
    },
    {
      "cell_type": "code",
      "source": [
        "%pip list | grep scikit"
      ],
      "metadata": {
        "id": "qeJq6GyYmSRj",
        "collapsed": true
      },
      "execution_count": null,
      "outputs": []
    },
    {
      "cell_type": "code",
      "source": [
        "import scienceplots"
      ],
      "metadata": {
        "id": "rR3PZplpmt0L"
      },
      "execution_count": null,
      "outputs": []
    },
    {
      "cell_type": "code",
      "source": [
        "%pip install scienceplots"
      ],
      "metadata": {
        "id": "2qXkr4daim3P"
      },
      "execution_count": null,
      "outputs": []
    },
    {
      "cell_type": "code",
      "source": [
        "import scienceplots"
      ],
      "metadata": {
        "id": "6Y_QowBaOMb9"
      },
      "execution_count": null,
      "outputs": []
    },
    {
      "cell_type": "markdown",
      "source": [
        "## Some more magic commands"
      ],
      "metadata": {
        "id": "EFQvaVfQqiZA"
      }
    },
    {
      "cell_type": "code",
      "source": [
        "%time a=5+6"
      ],
      "metadata": {
        "id": "0-5ONp_PimsZ"
      },
      "execution_count": null,
      "outputs": []
    },
    {
      "cell_type": "code",
      "source": [
        "%%time\n",
        "a = 5+6\n",
        "print(a)\n",
        "print('Hello')"
      ],
      "metadata": {
        "id": "F0Nat3ONpPX2"
      },
      "execution_count": null,
      "outputs": []
    },
    {
      "cell_type": "code",
      "source": [
        "%pwd"
      ],
      "metadata": {
        "id": "2JYtrGLIjVVO"
      },
      "execution_count": null,
      "outputs": []
    },
    {
      "cell_type": "code",
      "source": [
        "%ls"
      ],
      "metadata": {
        "id": "ZX8QbO6joMcm"
      },
      "execution_count": null,
      "outputs": []
    },
    {
      "cell_type": "code",
      "source": [
        "%cd sample_data"
      ],
      "metadata": {
        "id": "O9lN0JEqjXN1"
      },
      "execution_count": null,
      "outputs": []
    },
    {
      "cell_type": "code",
      "source": [
        "%ls"
      ],
      "metadata": {
        "id": "XqUlF3n7qrXH"
      },
      "execution_count": null,
      "outputs": []
    },
    {
      "cell_type": "code",
      "source": [
        "%pwd"
      ],
      "metadata": {
        "id": "WIC74MiRjdK2"
      },
      "execution_count": null,
      "outputs": []
    },
    {
      "cell_type": "markdown",
      "source": [
        "# Shell commands\n",
        "Many of the above magic commands also works in shell-way (using !) but some only works if you specify shell."
      ],
      "metadata": {
        "id": "E8t72tLMcC4-"
      }
    },
    {
      "cell_type": "code",
      "source": [
        "!echo \"Hello\""
      ],
      "metadata": {
        "id": "-5jenCUhb_CE"
      },
      "execution_count": null,
      "outputs": []
    },
    {
      "cell_type": "code",
      "source": [
        "!bash --help"
      ],
      "metadata": {
        "id": "_RtKKzbccU-E"
      },
      "execution_count": null,
      "outputs": []
    },
    {
      "cell_type": "markdown",
      "source": [
        "# Accessing Google Drive contents"
      ],
      "metadata": {
        "id": "Zvw1kIVHQ7Am"
      }
    },
    {
      "cell_type": "code",
      "execution_count": null,
      "metadata": {
        "id": "onMqCFHsfdil"
      },
      "outputs": [],
      "source": [
        "# Alternative to Files > Mount Drive\n",
        "from google.colab import drive\n",
        "drive.mount('/content/gdrive')"
      ]
    },
    {
      "cell_type": "code",
      "source": [
        "with open('/content/drive/MyDrive/Colab Notebooks/AICS/file.txt','r') as f:\n",
        "  data = f.read()"
      ],
      "metadata": {
        "id": "9alZiVELfhpm"
      },
      "execution_count": null,
      "outputs": []
    },
    {
      "cell_type": "code",
      "source": [
        "print(data)"
      ],
      "metadata": {
        "id": "vhdj2cHYihHM"
      },
      "execution_count": null,
      "outputs": []
    },
    {
      "cell_type": "markdown",
      "source": [
        "# Download something from external sites"
      ],
      "metadata": {
        "id": "xlhKPrvLuEWV"
      }
    },
    {
      "cell_type": "code",
      "source": [
        "!git clone https://github.com/hasan-rakibul/AI-cybersec.git"
      ],
      "metadata": {
        "id": "AQDKMulbWgo0"
      },
      "execution_count": null,
      "outputs": []
    },
    {
      "cell_type": "code",
      "source": [
        "%pwd"
      ],
      "metadata": {
        "id": "HyivfonTrSp_"
      },
      "execution_count": null,
      "outputs": []
    },
    {
      "cell_type": "code",
      "source": [
        "!wget https://upload.wikimedia.org/wikipedia/commons/e/e8/Murdoch_University_extended_logo.png"
      ],
      "metadata": {
        "id": "nUwinz3DYFBk"
      },
      "execution_count": null,
      "outputs": []
    },
    {
      "cell_type": "markdown",
      "source": [
        "# Access GPU"
      ],
      "metadata": {
        "id": "MhXSw0EcIDXO"
      }
    },
    {
      "cell_type": "markdown",
      "source": [
        "## Using Torch"
      ],
      "metadata": {
        "id": "bLN8kJvfNV7L"
      }
    },
    {
      "cell_type": "code",
      "source": [
        "import torch"
      ],
      "metadata": {
        "id": "4jp1E57vl5-e"
      },
      "execution_count": null,
      "outputs": []
    },
    {
      "cell_type": "code",
      "source": [
        "# By default, all uses cpu\n",
        "a = torch.Tensor([4])\n",
        "print(a.device)"
      ],
      "metadata": {
        "id": "rv2RSGKbmSuH"
      },
      "execution_count": null,
      "outputs": []
    },
    {
      "cell_type": "code",
      "source": [
        "# How many GPUs are available?\n",
        "print(torch.cuda.device_count())"
      ],
      "metadata": {
        "id": "1hU2HH-fl7Kx"
      },
      "execution_count": null,
      "outputs": []
    },
    {
      "cell_type": "code",
      "source": [
        "a = a.to(torch.device(0))\n",
        "print(a.device)"
      ],
      "metadata": {
        "id": "FNxqa_d3mCfH"
      },
      "execution_count": null,
      "outputs": []
    }
  ]
}