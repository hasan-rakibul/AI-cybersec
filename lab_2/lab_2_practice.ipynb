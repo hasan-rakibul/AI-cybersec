{
  "nbformat": 4,
  "nbformat_minor": 0,
  "metadata": {
    "colab": {
      "provenance": [],
      "toc_visible": true,
      "authorship_tag": "ABX9TyN8c6kAtIEsDAE8rHC+WElI",
      "include_colab_link": true
    },
    "kernelspec": {
      "name": "python3",
      "display_name": "Python 3"
    },
    "language_info": {
      "name": "python"
    }
  },
  "cells": [
    {
      "cell_type": "markdown",
      "metadata": {
        "id": "view-in-github",
        "colab_type": "text"
      },
      "source": [
        "<a href=\"https://colab.research.google.com/github/hasan-rakibul/AI-cybersec/blob/main/Lab%202/lab_2_practice.ipynb\" target=\"_parent\"><img src=\"https://colab.research.google.com/assets/colab-badge.svg\" alt=\"Open In Colab\"/></a>"
      ]
    },
    {
      "cell_type": "markdown",
      "source": [
        "# Basic Python"
      ],
      "metadata": {
        "id": "-0lrJKE8zK53"
      }
    },
    {
      "cell_type": "markdown",
      "source": [
        "## Functions and seeking help"
      ],
      "metadata": {
        "id": "GCGVYMkXisRg"
      }
    },
    {
      "cell_type": "code",
      "execution_count": null,
      "metadata": {
        "id": "06pXnopcrW8f"
      },
      "outputs": [],
      "source": [
        "# Importing modules\n",
        "import numpy as np"
      ]
    },
    {
      "cell_type": "code",
      "source": [
        "# Defining functions\n",
        "def add_numbers(x, y):\n",
        "  \"Adds two numbers and returns the result.\"\n",
        "  return x + y\n",
        "\n",
        "def count_words(string):\n",
        "  \"\"\"\n",
        "  Counts the number of words in a string.\n",
        "  \"\"\"\n",
        "  words = string.split()\n",
        "  return len(words)"
      ],
      "metadata": {
        "id": "LBFdLtLPsh3I"
      },
      "execution_count": null,
      "outputs": []
    },
    {
      "cell_type": "code",
      "source": [
        "add_numbers(4, 5)"
      ],
      "metadata": {
        "id": "R6EBOMhHf_vr"
      },
      "execution_count": null,
      "outputs": []
    },
    {
      "cell_type": "code",
      "source": [
        "help(add_numbers)"
      ],
      "metadata": {
        "id": "5SM7DCY4tA0j"
      },
      "execution_count": null,
      "outputs": []
    },
    {
      "cell_type": "code",
      "source": [
        "words = 'ICT607 lab 2'.split()\n",
        "print(words)"
      ],
      "metadata": {
        "id": "4f6l4D6IE3vy"
      },
      "execution_count": null,
      "outputs": []
    },
    {
      "cell_type": "code",
      "source": [
        "len(words)"
      ],
      "metadata": {
        "id": "n0IXK4UKE8zS"
      },
      "execution_count": null,
      "outputs": []
    },
    {
      "cell_type": "code",
      "source": [
        "count_words('ICT607 lab 2')"
      ],
      "metadata": {
        "id": "lURQ1Kk6GBwl"
      },
      "execution_count": null,
      "outputs": []
    },
    {
      "cell_type": "code",
      "source": [
        "np.array([2, 5])"
      ],
      "metadata": {
        "id": "KqkGPTygFYsC"
      },
      "execution_count": null,
      "outputs": []
    },
    {
      "cell_type": "code",
      "source": [
        "help(np.array)"
      ],
      "metadata": {
        "id": "F_1HJfAtFoBi"
      },
      "execution_count": null,
      "outputs": []
    },
    {
      "cell_type": "markdown",
      "source": [
        "## Data structures"
      ],
      "metadata": {
        "id": "pGRfap30iw9w"
      }
    },
    {
      "cell_type": "code",
      "source": [
        "my_list = [10, 21, 30, 41, 50]\n",
        "my_tuple = ('a', 'b', 'c', 'd', 'e')\n",
        "my_dict = {'name': 'John', 'age': 30, 'city': 'New York'}\n",
        "my_array = np.array([11, 22, 33, 44, 55])"
      ],
      "metadata": {
        "id": "EH9QxCYjtDA9"
      },
      "execution_count": null,
      "outputs": []
    },
    {
      "cell_type": "code",
      "source": [
        "my_list"
      ],
      "metadata": {
        "id": "ET8M8iI9tgOu"
      },
      "execution_count": null,
      "outputs": []
    },
    {
      "cell_type": "code",
      "source": [
        "[1, 'one']"
      ],
      "metadata": {
        "id": "AdZY-lsctone"
      },
      "execution_count": null,
      "outputs": []
    },
    {
      "cell_type": "code",
      "source": [
        "my_tuple"
      ],
      "metadata": {
        "id": "sIBp-N2ithfE"
      },
      "execution_count": null,
      "outputs": []
    },
    {
      "cell_type": "code",
      "source": [
        "(1, 'one')"
      ],
      "metadata": {
        "id": "Vq6wQay3jPxn"
      },
      "execution_count": null,
      "outputs": []
    },
    {
      "cell_type": "code",
      "source": [
        "my_dict"
      ],
      "metadata": {
        "id": "ceCEsUpotixi"
      },
      "execution_count": null,
      "outputs": []
    },
    {
      "cell_type": "code",
      "source": [
        "my_dict.keys()"
      ],
      "metadata": {
        "id": "c4YriF9TKKtF"
      },
      "execution_count": null,
      "outputs": []
    },
    {
      "cell_type": "code",
      "source": [
        "my_dict['name']"
      ],
      "metadata": {
        "id": "IUS2oxkDKND1"
      },
      "execution_count": null,
      "outputs": []
    },
    {
      "cell_type": "code",
      "source": [
        "my_array"
      ],
      "metadata": {
        "id": "Y-HwzR7jtkZH"
      },
      "execution_count": null,
      "outputs": []
    },
    {
      "cell_type": "code",
      "source": [
        "my_array[0]"
      ],
      "metadata": {
        "id": "-ugAevV3KpHK"
      },
      "execution_count": null,
      "outputs": []
    },
    {
      "cell_type": "code",
      "source": [
        "np.array([1, 'one'])"
      ],
      "metadata": {
        "id": "nGriYY25tyE6"
      },
      "execution_count": null,
      "outputs": []
    },
    {
      "cell_type": "markdown",
      "source": [
        "## Control structures"
      ],
      "metadata": {
        "id": "aBhSO9VvkNEY"
      }
    },
    {
      "cell_type": "code",
      "source": [
        "for num in my_list:\n",
        "  if num % 2 == 0:\n",
        "    print(f\"{num} is even\")\n",
        "  else:\n",
        "    print(f\"{num} is odd\")"
      ],
      "metadata": {
        "id": "OfAwTG4Lt3Ea"
      },
      "execution_count": null,
      "outputs": []
    },
    {
      "cell_type": "code",
      "source": [
        "while count_words(input(\"Enter a sentence: \")) < 5:\n",
        "  print(\"Please enter a sentence with at least 5 words.\")"
      ],
      "metadata": {
        "id": "8IOvb3oGvNWD"
      },
      "execution_count": null,
      "outputs": []
    },
    {
      "cell_type": "markdown",
      "source": [
        "# Data visualisation"
      ],
      "metadata": {
        "id": "yq2E5a8wJd57"
      }
    },
    {
      "cell_type": "code",
      "source": [
        "import matplotlib.pyplot as plt"
      ],
      "metadata": {
        "id": "zByTW0OuJlBb"
      },
      "execution_count": null,
      "outputs": []
    },
    {
      "cell_type": "code",
      "source": [
        "print(my_list)\n",
        "print(my_array)"
      ],
      "metadata": {
        "id": "AZb0j8-yQd8w"
      },
      "execution_count": null,
      "outputs": []
    },
    {
      "cell_type": "code",
      "source": [
        "plt.plot(my_list, my_array)\n",
        "plt.title(\"A Plot of My List and My Array\")\n",
        "plt.xlabel(\"My List\")\n",
        "plt.ylabel(\"My Array\")\n",
        "plt.grid()\n",
        "plt.xlim(-10, 60)\n",
        "plt.ylim(-10, 60)\n",
        "plt.show()"
      ],
      "metadata": {
        "id": "h5Kf0Z7gx-KQ"
      },
      "execution_count": null,
      "outputs": []
    },
    {
      "cell_type": "code",
      "source": [
        "help(plt.plot)"
      ],
      "metadata": {
        "id": "RSGcM791yPLG"
      },
      "execution_count": null,
      "outputs": []
    },
    {
      "cell_type": "code",
      "source": [
        "plt.plot(my_list, my_array, 'rh:')"
      ],
      "metadata": {
        "id": "qC-4vOLNRfmI"
      },
      "execution_count": null,
      "outputs": []
    },
    {
      "cell_type": "markdown",
      "source": [
        "# NumPy"
      ],
      "metadata": {
        "id": "Az2AiP3Zza7l"
      }
    },
    {
      "cell_type": "code",
      "source": [
        "# Importing the required libraries\n",
        "import numpy as np"
      ],
      "metadata": {
        "id": "r7rBmOktzd8G"
      },
      "execution_count": null,
      "outputs": []
    },
    {
      "cell_type": "code",
      "source": [
        "# Creating a NumPy array of random values\n",
        "\n",
        "arr = np.random.randn(100)"
      ],
      "metadata": {
        "id": "0qF4sFCFzlyQ"
      },
      "execution_count": null,
      "outputs": []
    },
    {
      "cell_type": "code",
      "source": [
        "arr"
      ],
      "metadata": {
        "id": "F7W7HPVbzpUu"
      },
      "execution_count": null,
      "outputs": []
    },
    {
      "cell_type": "code",
      "source": [
        "help(np.random.randn)"
      ],
      "metadata": {
        "id": "lm3iPzIkm2ZK"
      },
      "execution_count": null,
      "outputs": []
    },
    {
      "cell_type": "code",
      "source": [
        "# Computing the mean and standard deviation of the array\n",
        "\n",
        "mean = np.mean(arr)\n",
        "std_dev = np.std(arr)"
      ],
      "metadata": {
        "id": "jRjwLCPezqmr"
      },
      "execution_count": null,
      "outputs": []
    },
    {
      "cell_type": "code",
      "source": [
        "# Printing the mean and standard deviation\n",
        "\n",
        "print(\"Mean:\", mean)\n",
        "print(\"Standard deviation:\", std_dev)"
      ],
      "metadata": {
        "id": "ivtUtJOczwDZ"
      },
      "execution_count": null,
      "outputs": []
    },
    {
      "cell_type": "code",
      "source": [
        "# Creating a NumPy array of integers\n",
        "\n",
        "arr_int = np.array([1, 2, 3, 4, 5])"
      ],
      "metadata": {
        "id": "2FD2YkB9zzKK"
      },
      "execution_count": null,
      "outputs": []
    },
    {
      "cell_type": "code",
      "source": [
        "# Performing element-wise arithmetic operations on the array\n",
        "\n",
        "add_arr = arr_int + 5\n",
        "sub_arr = arr_int - 2\n",
        "mult_arr = arr_int * 3\n",
        "div_arr = arr_int / 2"
      ],
      "metadata": {
        "id": "XSpIVtH7z3hu"
      },
      "execution_count": null,
      "outputs": []
    },
    {
      "cell_type": "code",
      "source": [
        "# Printing the result of each operation\n",
        "\n",
        "print(\"Addition:\", add_arr)\n",
        "print(\"Subtraction:\", sub_arr)\n",
        "print(\"Multiplication:\", mult_arr)\n",
        "print(\"Division:\", div_arr)"
      ],
      "metadata": {
        "id": "iEhagcOh1BEP"
      },
      "execution_count": null,
      "outputs": []
    },
    {
      "cell_type": "markdown",
      "source": [
        "# Pandas"
      ],
      "metadata": {
        "id": "yweNN0wZ1JL3"
      }
    },
    {
      "cell_type": "code",
      "source": [
        "# Importing the required libraries\n",
        "\n",
        "import pandas as pd"
      ],
      "metadata": {
        "id": "deadOlVG1LHj"
      },
      "execution_count": null,
      "outputs": []
    },
    {
      "cell_type": "code",
      "source": [
        "# Creating a dictionary with some sample data\n",
        "\n",
        "data = {'Name': ['John', 'Jane', 'Bob', 'Alice'],\n",
        "        'Age': [25, 30, 40, 35],\n",
        "        'Gender': ['Male', 'Female', 'Male', 'Female'],\n",
        "        'Salary': [50000, 60000, 80000, 70000]}"
      ],
      "metadata": {
        "id": "WUPstH9y1QEj"
      },
      "execution_count": null,
      "outputs": []
    },
    {
      "cell_type": "code",
      "source": [
        "# Creating a pandas DataFrame from the dictionary\n",
        "\n",
        "df = pd.DataFrame(data)"
      ],
      "metadata": {
        "id": "Hs0YWHwE1eBn"
      },
      "execution_count": null,
      "outputs": []
    },
    {
      "cell_type": "code",
      "source": [
        "df"
      ],
      "metadata": {
        "id": "6DWZVSs5q0yK"
      },
      "execution_count": null,
      "outputs": []
    },
    {
      "cell_type": "code",
      "source": [
        "df.columns"
      ],
      "metadata": {
        "id": "S4Jc1ZSyvueA"
      },
      "execution_count": null,
      "outputs": []
    },
    {
      "cell_type": "code",
      "source": [
        "# Printing the DataFrame\n",
        "\n",
        "print(\"Original DataFrame:\")\n",
        "print(df)\n",
        "print(df.head(2))\n",
        "print(df.tail(2))"
      ],
      "metadata": {
        "id": "QKal0_hs1gFl"
      },
      "execution_count": null,
      "outputs": []
    },
    {
      "cell_type": "code",
      "source": [
        "# Selecting a subset of columns\n",
        "\n",
        "df_subset = df[['Name', 'Salary']]"
      ],
      "metadata": {
        "id": "EkInk--61isH"
      },
      "execution_count": null,
      "outputs": []
    },
    {
      "cell_type": "code",
      "source": [
        "# Printing the subset DataFrame\n",
        "\n",
        "print(\"\\nSubset DataFrame:\")\n",
        "print(df_subset)"
      ],
      "metadata": {
        "id": "s4VXfmFp1pVb"
      },
      "execution_count": null,
      "outputs": []
    },
    {
      "cell_type": "code",
      "source": [
        "df.loc[0, 'Name']"
      ],
      "metadata": {
        "id": "ArosYgEFLPfm"
      },
      "execution_count": null,
      "outputs": []
    },
    {
      "cell_type": "code",
      "source": [
        "df.iloc[2, 3]"
      ],
      "metadata": {
        "id": "PmjEdGlTLWb1"
      },
      "execution_count": null,
      "outputs": []
    },
    {
      "cell_type": "code",
      "source": [
        "df"
      ],
      "metadata": {
        "id": "UhxL88OHvA4k"
      },
      "execution_count": null,
      "outputs": []
    },
    {
      "cell_type": "code",
      "source": [
        "df.iloc[1:3, 1:]"
      ],
      "metadata": {
        "id": "aKvwv7iQLa0t"
      },
      "execution_count": null,
      "outputs": []
    },
    {
      "cell_type": "code",
      "source": [
        "df['Age'] >= 30"
      ],
      "metadata": {
        "id": "_2zIbuRirfAb"
      },
      "execution_count": null,
      "outputs": []
    },
    {
      "cell_type": "code",
      "source": [
        "# Filtering rows based on a condition\n",
        "\n",
        "df_filtered = df[df['Age'] >= 30]"
      ],
      "metadata": {
        "id": "n67upYSV1tvv"
      },
      "execution_count": null,
      "outputs": []
    },
    {
      "cell_type": "code",
      "source": [
        "# Printing the filtered DataFrame\n",
        "\n",
        "print(\"\\nFiltered DataFrame:\")\n",
        "print(df_filtered)"
      ],
      "metadata": {
        "id": "iXVNQklc19IP"
      },
      "execution_count": null,
      "outputs": []
    },
    {
      "cell_type": "code",
      "source": [
        "# Grouping the DataFrame by a column and calculating statistics\n",
        "\n",
        "df_grouped = df.groupby('Gender').mean()"
      ],
      "metadata": {
        "id": "VTZX-iU62Enn"
      },
      "execution_count": null,
      "outputs": []
    },
    {
      "cell_type": "code",
      "source": [
        "# Printing the grouped DataFrame\n",
        "\n",
        "print(\"\\nGrouped DataFrame:\")\n",
        "print(df_grouped)"
      ],
      "metadata": {
        "id": "Cb0z9D9q2M28"
      },
      "execution_count": null,
      "outputs": []
    },
    {
      "cell_type": "code",
      "source": [
        "# Sorting the DataFrame by a column\n",
        "\n",
        "df_sorted = df.sort_values('Age')"
      ],
      "metadata": {
        "id": "8yRqtdDF3JXY"
      },
      "execution_count": null,
      "outputs": []
    },
    {
      "cell_type": "code",
      "source": [
        "# Printing the sorted DataFrame\n",
        "\n",
        "print(\"\\nSorted DataFrame:\")\n",
        "print(df_sorted)"
      ],
      "metadata": {
        "id": "mfCsmNre3J5e"
      },
      "execution_count": null,
      "outputs": []
    },
    {
      "cell_type": "markdown",
      "source": [
        "# Data manipulation and cleaning"
      ],
      "metadata": {
        "id": "NCJv1uPn3Q1O"
      }
    },
    {
      "cell_type": "code",
      "source": [
        "# Importing the required libraries\n",
        "\n",
        "import pandas as pd\n",
        "from scipy.stats import zscore"
      ],
      "metadata": {
        "id": "AW83RLRK3TrR"
      },
      "execution_count": null,
      "outputs": []
    },
    {
      "cell_type": "code",
      "source": [
        "help(zscore)"
      ],
      "metadata": {
        "id": "YUay6_ixU4Nc"
      },
      "execution_count": null,
      "outputs": []
    },
    {
      "cell_type": "code",
      "source": [
        "# Creating a sample dataset\n",
        "\n",
        "data = {\n",
        "    'Name': ['Alice', 'Bob', 'Charlie', 'Dave', 'Emily', 'Frank'],\n",
        "    'Age': [25, 30, 35, 40, 45, 50],\n",
        "    'Gender': ['F', 'M', 'M', 'M', 'F', 'M'],\n",
        "    'Income': [50000, 60000, 70000, 80000, np.nan, np.nan]\n",
        "}\n",
        "\n",
        "df = pd.DataFrame(data)"
      ],
      "metadata": {
        "id": "EHW17psX3je0"
      },
      "execution_count": null,
      "outputs": []
    },
    {
      "cell_type": "code",
      "source": [
        "# Printing the initial dataframe\n",
        "\n",
        "print(\"Initial DataFrame:\")\n",
        "print(df)"
      ],
      "metadata": {
        "id": "EF8ZtPl_3r1N"
      },
      "execution_count": null,
      "outputs": []
    },
    {
      "cell_type": "code",
      "source": [
        "# Removing null values\n",
        "df.dropna(inplace=True)"
      ],
      "metadata": {
        "id": "6ZE6kkKc3xid"
      },
      "execution_count": null,
      "outputs": []
    },
    {
      "cell_type": "code",
      "source": [
        "df"
      ],
      "metadata": {
        "id": "Z07Q-q6L31fB"
      },
      "execution_count": null,
      "outputs": []
    },
    {
      "cell_type": "code",
      "source": [
        "df = pd.DataFrame(data)"
      ],
      "metadata": {
        "id": "iY95ZBcauPG3"
      },
      "execution_count": null,
      "outputs": []
    },
    {
      "cell_type": "code",
      "source": [
        "df"
      ],
      "metadata": {
        "id": "zDKa-kpxuRr5"
      },
      "execution_count": null,
      "outputs": []
    },
    {
      "cell_type": "code",
      "source": [
        "# Filling missing values with the mean of the column\n",
        "df.fillna(df.mean(numeric_only=True), inplace=True)"
      ],
      "metadata": {
        "id": "Un4MejOW33dN"
      },
      "execution_count": null,
      "outputs": []
    },
    {
      "cell_type": "code",
      "source": [
        "df"
      ],
      "metadata": {
        "id": "RILKvIeh4m_T"
      },
      "execution_count": null,
      "outputs": []
    },
    {
      "cell_type": "code",
      "source": [
        "# Adding a new column to the dataframe\n",
        "\n",
        "df['Age_Group'] = pd.cut(df['Age'], bins=[18, 30, 40, 50], labels=['18-30', '31-40', '41-50'])"
      ],
      "metadata": {
        "id": "rUDzChPV4oLS"
      },
      "execution_count": null,
      "outputs": []
    },
    {
      "cell_type": "code",
      "source": [
        "help(pd.cut)"
      ],
      "metadata": {
        "id": "pS8TYbHxxNcH"
      },
      "execution_count": null,
      "outputs": []
    },
    {
      "cell_type": "code",
      "source": [
        "df"
      ],
      "metadata": {
        "id": "Jfq6dTT15cwv"
      },
      "execution_count": null,
      "outputs": []
    },
    {
      "cell_type": "code",
      "source": [
        "# Computing the z-score of the income column\n",
        "\n",
        "df['Income_zscore'] = zscore(df['Income'])"
      ],
      "metadata": {
        "id": "aiu1tPiW5g-n"
      },
      "execution_count": null,
      "outputs": []
    },
    {
      "cell_type": "code",
      "source": [
        "df"
      ],
      "metadata": {
        "id": "KtWZsEVo6kXJ"
      },
      "execution_count": null,
      "outputs": []
    },
    {
      "cell_type": "code",
      "source": [
        "# Grouping the dataframe by the gender and age group columns and computing the mean income\n",
        "\n",
        "grouped_df = df.groupby(['Gender', 'Age_Group'])['Income'].mean().reset_index()"
      ],
      "metadata": {
        "id": "N10cSXJk6mFt"
      },
      "execution_count": null,
      "outputs": []
    },
    {
      "cell_type": "code",
      "source": [
        "# Printing the final grouped dataframe\n",
        "\n",
        "print(\"Final Grouped DataFrame:\")\n",
        "print(grouped_df)"
      ],
      "metadata": {
        "id": "vPqfuMYM6ygr"
      },
      "execution_count": null,
      "outputs": []
    }
  ]
}