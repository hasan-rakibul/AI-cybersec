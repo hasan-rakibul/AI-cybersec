{
  "cells": [
    {
      "cell_type": "markdown",
      "metadata": {
        "id": "view-in-github",
        "colab_type": "text"
      },
      "source": [
        "<a href=\"https://colab.research.google.com/github/hasan-rakibul/AI-cybersec/blob/main/lab_2/lab_2_practice.ipynb\" target=\"_parent\"><img src=\"https://colab.research.google.com/assets/colab-badge.svg\" alt=\"Open In Colab\"/></a>"
      ]
    },
    {
      "cell_type": "markdown",
      "metadata": {
        "id": "-0lrJKE8zK53"
      },
      "source": [
        "# Basic Python"
      ]
    },
    {
      "cell_type": "markdown",
      "metadata": {
        "id": "GCGVYMkXisRg"
      },
      "source": [
        "## Functions and seeking help"
      ]
    },
    {
      "cell_type": "code",
      "execution_count": null,
      "metadata": {
        "id": "4f6l4D6IE3vy"
      },
      "outputs": [],
      "source": [
        "words = 'ICT607 lab 2'.split()\n",
        "print(words)"
      ]
    },
    {
      "cell_type": "code",
      "execution_count": null,
      "metadata": {
        "id": "n0IXK4UKE8zS"
      },
      "outputs": [],
      "source": [
        "len(words)"
      ]
    },
    {
      "cell_type": "code",
      "execution_count": null,
      "metadata": {
        "id": "LBFdLtLPsh3I"
      },
      "outputs": [],
      "source": [
        "# Defining functions\n",
        "def count_words(string):\n",
        "  \"\"\"\n",
        "  Counts the number of words in a string.\n",
        "  \"\"\"\n",
        "  words = string.split()\n",
        "  return len(words)"
      ]
    },
    {
      "cell_type": "code",
      "execution_count": null,
      "metadata": {
        "id": "lURQ1Kk6GBwl"
      },
      "outputs": [],
      "source": [
        "count_words('ICT607 lab 2')"
      ]
    },
    {
      "cell_type": "code",
      "source": [
        "count_words(\"This is a new sentence\")"
      ],
      "metadata": {
        "id": "peiMam-rsZQx"
      },
      "execution_count": null,
      "outputs": []
    },
    {
      "cell_type": "markdown",
      "metadata": {
        "id": "pGRfap30iw9w"
      },
      "source": [
        "## Data structures"
      ]
    },
    {
      "cell_type": "code",
      "execution_count": null,
      "metadata": {
        "id": "06pXnopcrW8f"
      },
      "outputs": [],
      "source": [
        "# Importing modules\n",
        "import numpy as np"
      ]
    },
    {
      "cell_type": "code",
      "source": [
        "a = [2, 5]\n",
        "type(a)"
      ],
      "metadata": {
        "id": "DVhMvRektp7p"
      },
      "execution_count": null,
      "outputs": []
    },
    {
      "cell_type": "code",
      "execution_count": null,
      "metadata": {
        "id": "KqkGPTygFYsC"
      },
      "outputs": [],
      "source": [
        "a_array = np.array([2, 5])"
      ]
    },
    {
      "cell_type": "code",
      "source": [
        "type(a_array)"
      ],
      "metadata": {
        "id": "lS0muxyKtvbo"
      },
      "execution_count": null,
      "outputs": []
    },
    {
      "cell_type": "code",
      "source": [
        "print(a, a_array)"
      ],
      "metadata": {
        "id": "eniEG0oeHHCd"
      },
      "execution_count": null,
      "outputs": []
    },
    {
      "cell_type": "code",
      "execution_count": null,
      "metadata": {
        "id": "F_1HJfAtFoBi"
      },
      "outputs": [],
      "source": [
        "help(np.array)"
      ]
    },
    {
      "cell_type": "code",
      "execution_count": null,
      "metadata": {
        "id": "EH9QxCYjtDA9"
      },
      "outputs": [],
      "source": [
        "my_list = [10, 21, 30, 41, 50]\n",
        "my_tuple = ('a', 'b', 'c', 'd', 'e')\n",
        "my_dict = {'name': 'John', 'age': 30, 'city': 'New York'}\n",
        "my_array = np.array([11, 22, 33, 44, 55])"
      ]
    },
    {
      "cell_type": "code",
      "execution_count": null,
      "metadata": {
        "id": "ET8M8iI9tgOu"
      },
      "outputs": [],
      "source": [
        "my_list"
      ]
    },
    {
      "cell_type": "code",
      "execution_count": null,
      "metadata": {
        "id": "AdZY-lsctone"
      },
      "outputs": [],
      "source": [
        "[1, 'one']"
      ]
    },
    {
      "cell_type": "code",
      "execution_count": null,
      "metadata": {
        "id": "sIBp-N2ithfE"
      },
      "outputs": [],
      "source": [
        "my_tuple"
      ]
    },
    {
      "cell_type": "code",
      "execution_count": null,
      "metadata": {
        "id": "Vq6wQay3jPxn"
      },
      "outputs": [],
      "source": [
        "(1, 'one')"
      ]
    },
    {
      "cell_type": "code",
      "execution_count": null,
      "metadata": {
        "id": "ceCEsUpotixi"
      },
      "outputs": [],
      "source": [
        "my_dict"
      ]
    },
    {
      "cell_type": "code",
      "execution_count": null,
      "metadata": {
        "id": "c4YriF9TKKtF"
      },
      "outputs": [],
      "source": [
        "my_dict.keys()"
      ]
    },
    {
      "cell_type": "code",
      "execution_count": null,
      "metadata": {
        "id": "IUS2oxkDKND1"
      },
      "outputs": [],
      "source": [
        "my_dict['name']"
      ]
    },
    {
      "cell_type": "code",
      "execution_count": null,
      "metadata": {
        "id": "Y-HwzR7jtkZH"
      },
      "outputs": [],
      "source": [
        "my_array"
      ]
    },
    {
      "cell_type": "code",
      "execution_count": null,
      "metadata": {
        "id": "-ugAevV3KpHK"
      },
      "outputs": [],
      "source": [
        "my_array[0]"
      ]
    },
    {
      "cell_type": "code",
      "execution_count": null,
      "metadata": {
        "id": "nGriYY25tyE6"
      },
      "outputs": [],
      "source": [
        "np.array([1, 'one'])"
      ]
    },
    {
      "cell_type": "markdown",
      "metadata": {
        "id": "aBhSO9VvkNEY"
      },
      "source": [
        "## Control structures"
      ]
    },
    {
      "cell_type": "code",
      "execution_count": null,
      "metadata": {
        "id": "OfAwTG4Lt3Ea"
      },
      "outputs": [],
      "source": [
        "for num in my_list:\n",
        "  if num % 2 == 0:\n",
        "    print(f\"{num} is even\")\n",
        "  else:\n",
        "    print(f\"{num} is odd\")"
      ]
    },
    {
      "cell_type": "code",
      "execution_count": null,
      "metadata": {
        "id": "8IOvb3oGvNWD"
      },
      "outputs": [],
      "source": [
        "while count_words(input(\"Enter a sentence: \")) < 5:\n",
        "  print(\"Please enter a sentence with at least 5 words.\")"
      ]
    },
    {
      "cell_type": "markdown",
      "metadata": {
        "id": "yq2E5a8wJd57"
      },
      "source": [
        "# Data visualisation"
      ]
    },
    {
      "cell_type": "code",
      "execution_count": null,
      "metadata": {
        "id": "zByTW0OuJlBb"
      },
      "outputs": [],
      "source": [
        "import matplotlib.pyplot as plt"
      ]
    },
    {
      "cell_type": "code",
      "execution_count": null,
      "metadata": {
        "id": "AZb0j8-yQd8w"
      },
      "outputs": [],
      "source": [
        "print(my_list)\n",
        "print(my_array)"
      ]
    },
    {
      "cell_type": "code",
      "execution_count": null,
      "metadata": {
        "id": "h5Kf0Z7gx-KQ"
      },
      "outputs": [],
      "source": [
        "plt.plot(my_list, my_array)\n",
        "plt.title(\"A Plot of My List and My Array\")\n",
        "plt.xlabel(\"My List\")\n",
        "plt.ylabel(\"My Array\")\n",
        "plt.grid()\n",
        "plt.xlim(-10, 60)\n",
        "plt.ylim(-10, 60)\n",
        "plt.show()"
      ]
    },
    {
      "cell_type": "code",
      "source": [
        "plt.plot(my_list, my_array, color='red', marker='o')"
      ],
      "metadata": {
        "id": "x5jKDmYzLMrg"
      },
      "execution_count": null,
      "outputs": []
    },
    {
      "cell_type": "code",
      "execution_count": null,
      "metadata": {
        "id": "RSGcM791yPLG"
      },
      "outputs": [],
      "source": [
        "help(plt.plot)"
      ]
    },
    {
      "cell_type": "markdown",
      "metadata": {
        "id": "Az2AiP3Zza7l"
      },
      "source": [
        "# NumPy"
      ]
    },
    {
      "cell_type": "code",
      "execution_count": null,
      "metadata": {
        "id": "r7rBmOktzd8G"
      },
      "outputs": [],
      "source": [
        "# Importing the required libraries\n",
        "import numpy as np"
      ]
    },
    {
      "cell_type": "code",
      "execution_count": null,
      "metadata": {
        "id": "0qF4sFCFzlyQ"
      },
      "outputs": [],
      "source": [
        "# Creating a NumPy array of random values\n",
        "\n",
        "arr = np.random.randn(100)"
      ]
    },
    {
      "cell_type": "code",
      "execution_count": null,
      "metadata": {
        "id": "F7W7HPVbzpUu"
      },
      "outputs": [],
      "source": [
        "arr"
      ]
    },
    {
      "cell_type": "code",
      "execution_count": null,
      "metadata": {
        "id": "lm3iPzIkm2ZK"
      },
      "outputs": [],
      "source": [
        "help(np.random.randn)"
      ]
    },
    {
      "cell_type": "code",
      "execution_count": null,
      "metadata": {
        "id": "jRjwLCPezqmr"
      },
      "outputs": [],
      "source": [
        "# Computing the mean and standard deviation of the array\n",
        "\n",
        "mean = np.mean(arr)\n",
        "std_dev = np.std(arr)"
      ]
    },
    {
      "cell_type": "code",
      "execution_count": null,
      "metadata": {
        "id": "ivtUtJOczwDZ"
      },
      "outputs": [],
      "source": [
        "# Printing the mean and standard deviation\n",
        "\n",
        "print(\"Mean:\", mean)\n",
        "print(\"Standard deviation:\", std_dev)"
      ]
    },
    {
      "cell_type": "code",
      "execution_count": null,
      "metadata": {
        "id": "2FD2YkB9zzKK"
      },
      "outputs": [],
      "source": [
        "# Creating a NumPy array of integers\n",
        "\n",
        "arr_int = np.array([1, 2, 3, 4, 5])"
      ]
    },
    {
      "cell_type": "code",
      "execution_count": null,
      "metadata": {
        "id": "XSpIVtH7z3hu"
      },
      "outputs": [],
      "source": [
        "# Performing element-wise arithmetic operations on the array\n",
        "\n",
        "add_arr = arr_int + 5\n",
        "sub_arr = arr_int - 2\n",
        "mult_arr = arr_int * 3\n",
        "div_arr = arr_int / 2"
      ]
    },
    {
      "cell_type": "code",
      "execution_count": null,
      "metadata": {
        "id": "iEhagcOh1BEP"
      },
      "outputs": [],
      "source": [
        "# Printing the result of each operation\n",
        "\n",
        "print(\"Addition:\", add_arr)\n",
        "print(\"Subtraction:\", sub_arr)\n",
        "print(\"Multiplication:\", mult_arr)\n",
        "print(\"Division:\", div_arr)"
      ]
    },
    {
      "cell_type": "code",
      "source": [
        "# Difference with list\n",
        "[1, 2, 3] * 3"
      ],
      "metadata": {
        "id": "Fd8ElqDb8I5D"
      },
      "execution_count": null,
      "outputs": []
    },
    {
      "cell_type": "markdown",
      "metadata": {
        "id": "yweNN0wZ1JL3"
      },
      "source": [
        "# Pandas"
      ]
    },
    {
      "cell_type": "code",
      "execution_count": null,
      "metadata": {
        "id": "deadOlVG1LHj"
      },
      "outputs": [],
      "source": [
        "# Importing the required libraries\n",
        "\n",
        "import pandas as pd"
      ]
    },
    {
      "cell_type": "code",
      "execution_count": null,
      "metadata": {
        "id": "WUPstH9y1QEj"
      },
      "outputs": [],
      "source": [
        "# Creating a dictionary with some sample data\n",
        "\n",
        "data = {'Name': ['John', 'Jane', 'Bob', 'Alice'],\n",
        "        'Age': [25, 30, 40, 35],\n",
        "        'Gender': ['Male', 'Female', 'Male', 'Female'],\n",
        "        'Salary': [50000, 60000, 80000, 70000]}"
      ]
    },
    {
      "cell_type": "code",
      "execution_count": null,
      "metadata": {
        "id": "Hs0YWHwE1eBn"
      },
      "outputs": [],
      "source": [
        "# Creating a pandas DataFrame from the dictionary\n",
        "\n",
        "df = pd.DataFrame(data)"
      ]
    },
    {
      "cell_type": "code",
      "execution_count": null,
      "metadata": {
        "id": "6DWZVSs5q0yK"
      },
      "outputs": [],
      "source": [
        "df"
      ]
    },
    {
      "cell_type": "code",
      "execution_count": null,
      "metadata": {
        "id": "S4Jc1ZSyvueA"
      },
      "outputs": [],
      "source": [
        "df.columns"
      ]
    },
    {
      "cell_type": "code",
      "execution_count": null,
      "metadata": {
        "id": "QKal0_hs1gFl"
      },
      "outputs": [],
      "source": [
        "# Printing the DataFrame\n",
        "\n",
        "print(\"Original DataFrame:\")\n",
        "print(df)\n",
        "print(df.head(2))\n",
        "print(df.tail(2))"
      ]
    },
    {
      "cell_type": "code",
      "execution_count": null,
      "metadata": {
        "id": "EkInk--61isH"
      },
      "outputs": [],
      "source": [
        "# Selecting a subset of columns\n",
        "\n",
        "df_subset = df[['Name', 'Salary']]"
      ]
    },
    {
      "cell_type": "code",
      "execution_count": null,
      "metadata": {
        "id": "s4VXfmFp1pVb"
      },
      "outputs": [],
      "source": [
        "# Printing the subset DataFrame\n",
        "\n",
        "print(\"\\nSubset DataFrame:\")\n",
        "print(df_subset)"
      ]
    },
    {
      "cell_type": "code",
      "source": [
        "df"
      ],
      "metadata": {
        "id": "LA7rRsIpULc2"
      },
      "execution_count": null,
      "outputs": []
    },
    {
      "cell_type": "code",
      "execution_count": null,
      "metadata": {
        "id": "ArosYgEFLPfm"
      },
      "outputs": [],
      "source": [
        "df.loc[0, 'Name']"
      ]
    },
    {
      "cell_type": "code",
      "execution_count": null,
      "metadata": {
        "id": "PmjEdGlTLWb1"
      },
      "outputs": [],
      "source": [
        "df.iloc[2, 3]"
      ]
    },
    {
      "cell_type": "code",
      "execution_count": null,
      "metadata": {
        "id": "UhxL88OHvA4k"
      },
      "outputs": [],
      "source": [
        "df"
      ]
    },
    {
      "cell_type": "code",
      "source": [
        "# Note that the index format is start (inclusive) : end (not inclusive)\n",
        "df.iloc[1:3, :]"
      ],
      "metadata": {
        "id": "g_3MXuoJ_xsm"
      },
      "execution_count": null,
      "outputs": []
    },
    {
      "cell_type": "code",
      "source": [
        "df.iloc[:, 1:]"
      ],
      "metadata": {
        "id": "9VIfS3b6AQlG"
      },
      "execution_count": null,
      "outputs": []
    },
    {
      "cell_type": "code",
      "execution_count": null,
      "metadata": {
        "id": "aKvwv7iQLa0t"
      },
      "outputs": [],
      "source": [
        "df.iloc[1:3, 1:]"
      ]
    },
    {
      "cell_type": "code",
      "source": [
        "df"
      ],
      "metadata": {
        "id": "qmmGs5-MAvaG"
      },
      "execution_count": null,
      "outputs": []
    },
    {
      "cell_type": "code",
      "execution_count": null,
      "metadata": {
        "id": "_2zIbuRirfAb"
      },
      "outputs": [],
      "source": [
        "df['Age'] >= 30"
      ]
    },
    {
      "cell_type": "code",
      "execution_count": null,
      "metadata": {
        "id": "n67upYSV1tvv"
      },
      "outputs": [],
      "source": [
        "# Filtering rows based on a condition\n",
        "\n",
        "df_filtered = df[df['Age'] >= 30]"
      ]
    },
    {
      "cell_type": "code",
      "execution_count": null,
      "metadata": {
        "id": "iXVNQklc19IP"
      },
      "outputs": [],
      "source": [
        "# Printing the filtered DataFrame\n",
        "\n",
        "print(\"\\nFiltered DataFrame:\")\n",
        "print(df_filtered)"
      ]
    },
    {
      "cell_type": "code",
      "source": [
        "df"
      ],
      "metadata": {
        "id": "Q7fgae4pBGNP"
      },
      "execution_count": null,
      "outputs": []
    },
    {
      "cell_type": "code",
      "execution_count": null,
      "metadata": {
        "id": "VTZX-iU62Enn"
      },
      "outputs": [],
      "source": [
        "# Grouping the DataFrame by a column and calculating statistics\n",
        "\n",
        "df_grouped = df.groupby('Gender')[\"Age\"].mean()"
      ]
    },
    {
      "cell_type": "code",
      "execution_count": null,
      "metadata": {
        "id": "Cb0z9D9q2M28"
      },
      "outputs": [],
      "source": [
        "# Printing the grouped DataFrame\n",
        "\n",
        "print(\"\\nGrouped DataFrame:\")\n",
        "print(df_grouped)"
      ]
    },
    {
      "cell_type": "code",
      "execution_count": null,
      "metadata": {
        "id": "8yRqtdDF3JXY"
      },
      "outputs": [],
      "source": [
        "# Sorting the DataFrame by a column\n",
        "\n",
        "df_sorted = df.sort_values('Age')"
      ]
    },
    {
      "cell_type": "code",
      "execution_count": null,
      "metadata": {
        "id": "mfCsmNre3J5e"
      },
      "outputs": [],
      "source": [
        "# Printing the sorted DataFrame\n",
        "\n",
        "print(\"\\nSorted DataFrame:\")\n",
        "print(df_sorted)"
      ]
    },
    {
      "cell_type": "markdown",
      "metadata": {
        "id": "NCJv1uPn3Q1O"
      },
      "source": [
        "# Data manipulation and cleaning"
      ]
    },
    {
      "cell_type": "code",
      "execution_count": null,
      "metadata": {
        "id": "AW83RLRK3TrR"
      },
      "outputs": [],
      "source": [
        "# Importing the required libraries\n",
        "\n",
        "import pandas as pd\n",
        "from scipy.stats import zscore"
      ]
    },
    {
      "cell_type": "code",
      "execution_count": null,
      "metadata": {
        "id": "EHW17psX3je0"
      },
      "outputs": [],
      "source": [
        "# Creating a sample dataset\n",
        "\n",
        "data = {\n",
        "    'Name': ['Alice', 'Bob', 'Charlie', 'Dave', 'Emily', 'Frank'],\n",
        "    'Age': [25, 30, 35, 40, 45, 50],\n",
        "    'Gender': ['F', 'M', 'M', 'M', 'F', 'M'],\n",
        "    'Income': [50000, 60000, 70000, 80000, np.nan, np.nan]\n",
        "}\n",
        "\n",
        "df = pd.DataFrame(data)"
      ]
    },
    {
      "cell_type": "code",
      "execution_count": null,
      "metadata": {
        "id": "EF8ZtPl_3r1N"
      },
      "outputs": [],
      "source": [
        "# Printing the initial dataframe\n",
        "\n",
        "print(\"Initial DataFrame:\")\n",
        "print(df)"
      ]
    },
    {
      "cell_type": "code",
      "execution_count": null,
      "metadata": {
        "id": "6ZE6kkKc3xid"
      },
      "outputs": [],
      "source": [
        "# Removing null values\n",
        "df.dropna(inplace=True)"
      ]
    },
    {
      "cell_type": "code",
      "execution_count": null,
      "metadata": {
        "id": "Z07Q-q6L31fB"
      },
      "outputs": [],
      "source": [
        "df"
      ]
    },
    {
      "cell_type": "code",
      "execution_count": null,
      "metadata": {
        "id": "iY95ZBcauPG3"
      },
      "outputs": [],
      "source": [
        "df = pd.DataFrame(data)"
      ]
    },
    {
      "cell_type": "code",
      "execution_count": null,
      "metadata": {
        "id": "zDKa-kpxuRr5"
      },
      "outputs": [],
      "source": [
        "df"
      ]
    },
    {
      "cell_type": "code",
      "execution_count": null,
      "metadata": {
        "id": "Un4MejOW33dN"
      },
      "outputs": [],
      "source": [
        "# Filling missing values with the mean of the column\n",
        "df.fillna(df.mean(numeric_only=True), inplace=True)"
      ]
    },
    {
      "cell_type": "code",
      "execution_count": null,
      "metadata": {
        "id": "RILKvIeh4m_T"
      },
      "outputs": [],
      "source": [
        "df"
      ]
    },
    {
      "cell_type": "code",
      "execution_count": null,
      "metadata": {
        "id": "rUDzChPV4oLS"
      },
      "outputs": [],
      "source": [
        "# Adding a new column to the dataframe\n",
        "\n",
        "df['Age_Group'] = pd.cut(df['Age'], bins=[18, 30, 40, 50], labels=['18-30', '31-40', '41-50'])"
      ]
    },
    {
      "cell_type": "code",
      "execution_count": null,
      "metadata": {
        "id": "pS8TYbHxxNcH"
      },
      "outputs": [],
      "source": [
        "help(pd.cut)"
      ]
    },
    {
      "cell_type": "code",
      "execution_count": null,
      "metadata": {
        "id": "Jfq6dTT15cwv"
      },
      "outputs": [],
      "source": [
        "df"
      ]
    },
    {
      "cell_type": "code",
      "execution_count": null,
      "metadata": {
        "id": "aiu1tPiW5g-n"
      },
      "outputs": [],
      "source": [
        "# Computing the z-score of the income column\n",
        "\n",
        "df['Income_zscore'] = zscore(df['Income'])"
      ]
    },
    {
      "cell_type": "code",
      "execution_count": null,
      "metadata": {
        "id": "KtWZsEVo6kXJ"
      },
      "outputs": [],
      "source": [
        "df"
      ]
    },
    {
      "cell_type": "code",
      "execution_count": null,
      "metadata": {
        "id": "N10cSXJk6mFt"
      },
      "outputs": [],
      "source": [
        "# Grouping the dataframe by the gender and age group columns and computing the mean income\n",
        "\n",
        "grouped_df = df.groupby(['Gender', 'Age_Group'])['Income'].mean().reset_index()"
      ]
    },
    {
      "cell_type": "code",
      "execution_count": null,
      "metadata": {
        "id": "vPqfuMYM6ygr"
      },
      "outputs": [],
      "source": [
        "# Printing the final grouped dataframe\n",
        "\n",
        "print(\"Final Grouped DataFrame:\")\n",
        "print(grouped_df)"
      ]
    }
  ],
  "metadata": {
    "colab": {
      "provenance": [],
      "authorship_tag": "ABX9TyO0ACthwnAkHys9Gl8xcrHk",
      "include_colab_link": true
    },
    "kernelspec": {
      "display_name": "Python 3",
      "name": "python3"
    },
    "language_info": {
      "name": "python"
    }
  },
  "nbformat": 4,
  "nbformat_minor": 0
}