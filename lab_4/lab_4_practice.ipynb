{
  "cells": [
    {
      "cell_type": "markdown",
      "metadata": {
        "id": "view-in-github",
        "colab_type": "text"
      },
      "source": [
        "<a href=\"https://colab.research.google.com/github/hasan-rakibul/AI-cybersec/blob/main/lab_4/lab_4_practice.ipynb\" target=\"_parent\"><img src=\"https://colab.research.google.com/assets/colab-badge.svg\" alt=\"Open In Colab\"/></a>"
      ]
    },
    {
      "cell_type": "markdown",
      "metadata": {
        "id": "MKHVrbwQ44Ir"
      },
      "source": [
        "# Linear regression"
      ]
    },
    {
      "cell_type": "markdown",
      "metadata": {
        "id": "2B5a8f9YmFEJ"
      },
      "source": [
        "## Supplementary reading material\n",
        "- Introduction to linear regression: https://www.statology.org/linear-regression/"
      ]
    },
    {
      "cell_type": "code",
      "execution_count": null,
      "metadata": {
        "id": "19OP2PIFLf6G"
      },
      "outputs": [],
      "source": [
        "from sklearn.datasets import fetch_california_housing\n",
        "from sklearn.model_selection import train_test_split\n",
        "from sklearn.linear_model import LinearRegression\n",
        "from sklearn.metrics import mean_squared_error\n",
        "import matplotlib.pyplot as plt"
      ]
    },
    {
      "cell_type": "code",
      "execution_count": null,
      "metadata": {
        "id": "cDtMBefaLqvW"
      },
      "outputs": [],
      "source": [
        "# Load the dataset\n",
        "data = fetch_california_housing()"
      ]
    },
    {
      "cell_type": "code",
      "execution_count": null,
      "metadata": {
        "id": "zyXnoho537Kv"
      },
      "outputs": [],
      "source": [
        "data"
      ]
    },
    {
      "cell_type": "code",
      "execution_count": null,
      "metadata": {
        "id": "HbQwnvxMNDsh"
      },
      "outputs": [],
      "source": [
        "# Split the data into training and testing sets\n",
        "X_train, X_test, y_train, y_test = train_test_split(data.data, data.target, test_size=0.2, random_state=42)"
      ]
    },
    {
      "cell_type": "code",
      "source": [
        "# Create a linear regression model and train it on the training data\n",
        "model = LinearRegression()"
      ],
      "metadata": {
        "id": "e2KXvXQssiWg"
      },
      "execution_count": null,
      "outputs": []
    },
    {
      "cell_type": "code",
      "execution_count": null,
      "metadata": {
        "id": "-eryaNRrNnME"
      },
      "outputs": [],
      "source": [
        "model.fit(X_train, y_train)"
      ]
    },
    {
      "cell_type": "code",
      "execution_count": null,
      "metadata": {
        "id": "ChYKvpCLP5ze"
      },
      "outputs": [],
      "source": [
        "# Printing the learned parameters\n",
        "print(\"Intercept:\", model.intercept_)\n",
        "print(\"Coefficients:\", model.coef_)"
      ]
    },
    {
      "cell_type": "code",
      "execution_count": null,
      "metadata": {
        "id": "9L8BWubx4J55"
      },
      "outputs": [],
      "source": [
        "# Make predictions on the testing data\n",
        "y_pred = model.predict(X_test)"
      ]
    },
    {
      "cell_type": "markdown",
      "source": [
        "Mean Squared Error: https://www.ml-science.com/mean-squared-error"
      ],
      "metadata": {
        "id": "TJe9POSohhyF"
      }
    },
    {
      "cell_type": "code",
      "execution_count": null,
      "metadata": {
        "id": "53laeiUk4pIn"
      },
      "outputs": [],
      "source": [
        "# Evaluate the performance of the model using mean squared error\n",
        "mse = mean_squared_error(y_test, y_pred)\n",
        "print(\"Mean Squared Error: \", mse)"
      ]
    },
    {
      "cell_type": "code",
      "execution_count": null,
      "metadata": {
        "id": "nYQTswQyOsl9"
      },
      "outputs": [],
      "source": [
        "# Plot the actual and predicted values\n",
        "chosen_X = X_test[:, 0]\n",
        "plt.scatter(chosen_X, y_test, label=\"Actual\")\n",
        "plt.scatter(chosen_X, y_pred, label=\"Predicted\")\n",
        "plt.xlabel(\"X[0]\")\n",
        "plt.ylabel(\"y\")\n",
        "plt.legend()"
      ]
    },
    {
      "cell_type": "code",
      "source": [
        "# all are separately straight lines\n",
        "for i in range(len(data.feature_names)):\n",
        "    if i > 3: # showing only few; as the range of Xs are different, many will look ambiguous\n",
        "      break\n",
        "    y_pred_eqn = model.intercept_ + model.coef_[i] * X_test[:, i]\n",
        "    plt.plot(X_test[:, i], y_pred_eqn, label=\"Equation \" + str(i))"
      ],
      "metadata": {
        "id": "FJUeXDUOc4Sg"
      },
      "execution_count": null,
      "outputs": []
    },
    {
      "cell_type": "markdown",
      "metadata": {
        "id": "Tp7-RT0Fbp0r"
      },
      "source": [
        "# Support vector regression with GridSearchCV"
      ]
    },
    {
      "cell_type": "markdown",
      "metadata": {
        "id": "UE0oLzQgk9Mt"
      },
      "source": [
        "## Supplementary reading materials\n",
        "- Support Vector Machine - scikit learn: https://scikit-learn.org/stable/modules/svm.html\n",
        "- Hyperparameters of SVM: https://www.geeksforgeeks.org/introduction-to-support-vector-machines-svm/\n",
        "- K-fold cross-validation: https://www.statology.org/k-fold-cross-validation/"
      ]
    },
    {
      "cell_type": "code",
      "execution_count": null,
      "metadata": {
        "id": "8XLcV4t5btq_"
      },
      "outputs": [],
      "source": [
        "from sklearn.datasets import fetch_california_housing\n",
        "from sklearn.model_selection import train_test_split, GridSearchCV\n",
        "from sklearn.svm import SVR\n",
        "from sklearn.metrics import mean_squared_error, r2_score, mean_absolute_error, root_mean_squared_error"
      ]
    },
    {
      "cell_type": "code",
      "execution_count": null,
      "metadata": {
        "id": "nP8XTAkpbyHg"
      },
      "outputs": [],
      "source": [
        "california = fetch_california_housing()\n",
        "X = california.data\n",
        "y = california.target\n",
        "X_train, X_test, y_train, y_test = train_test_split(X, y, test_size=0.2, random_state=42)"
      ]
    },
    {
      "cell_type": "code",
      "source": [
        "model = SVR()\n",
        "params = {'kernel': ['rbf', 'sigmoid'], 'C': [0.1, 1]}\n",
        "grid = GridSearchCV(\n",
        "    estimator=model, param_grid=params, cv=5,\n",
        "    scoring='neg_mean_squared_error', verbose=3\n",
        ")"
      ],
      "metadata": {
        "id": "7Q_QkUPOIOF_"
      },
      "execution_count": null,
      "outputs": []
    },
    {
      "cell_type": "code",
      "execution_count": null,
      "metadata": {
        "id": "WpdvKrjIb8pX"
      },
      "outputs": [],
      "source": [
        "grid.fit(X_train, y_train)"
      ]
    },
    {
      "cell_type": "code",
      "execution_count": null,
      "metadata": {
        "id": "5LTkD9JQcGOP"
      },
      "outputs": [],
      "source": [
        "print(\"Best hyperparameters: \", grid.best_params_)"
      ]
    },
    {
      "cell_type": "code",
      "execution_count": null,
      "metadata": {
        "id": "KIMEZLyseF2M"
      },
      "outputs": [],
      "source": [
        "y_pred = grid.predict(X_test)\n",
        "mse = mean_squared_error(y_test, y_pred)\n",
        "rmse = root_mean_squared_error(y_test, y_pred)\n",
        "mae = mean_absolute_error(y_test, y_pred)\n",
        "r2 = r2_score(y_test, y_pred)\n",
        "\n",
        "print(\"MSE:\", mse)\n",
        "print(\"RMSE:\", rmse)\n",
        "print(\"MAE:\", mae)\n",
        "print(\"R^2:\", r2)"
      ]
    },
    {
      "cell_type": "markdown",
      "source": [
        "The performance is not good with the above set of hyperparameters. Let's tune `gamma`..."
      ],
      "metadata": {
        "id": "ZBsBuovab7Vo"
      }
    },
    {
      "cell_type": "code",
      "source": [
        "model = SVR(kernel='rbf', C=1)\n",
        "params = {'gamma': [0.005, 0.001, 0.01, 0.1]}\n",
        "grid = GridSearchCV(\n",
        "    estimator=model, param_grid=params, cv=5,\n",
        "    scoring='neg_mean_squared_error', verbose=3\n",
        ")\n",
        "\n",
        "grid.fit(X_train, y_train)\n",
        "\n",
        "print(\"Best hyperparameters: \", grid.best_params_)\n",
        "\n",
        "y_pred = grid.predict(X_test)\n",
        "mse = mean_squared_error(y_test, y_pred)\n",
        "rmse = root_mean_squared_error(y_test, y_pred)\n",
        "mae = mean_absolute_error(y_test, y_pred)\n",
        "r2 = r2_score(y_test, y_pred)\n",
        "\n",
        "print(\"MSE:\", mse)\n",
        "print(\"RMSE:\", rmse)\n",
        "print(\"MAE:\", mae)\n",
        "print(\"R^2:\", r2)"
      ],
      "metadata": {
        "id": "2jQ18nMaFIL1"
      },
      "execution_count": null,
      "outputs": []
    },
    {
      "cell_type": "code",
      "source": [],
      "metadata": {
        "id": "wjBTGKQIcv2H"
      },
      "execution_count": null,
      "outputs": []
    }
  ],
  "metadata": {
    "colab": {
      "provenance": [],
      "authorship_tag": "ABX9TyMGLvFZaexscEo7yeBqIv19",
      "include_colab_link": true
    },
    "kernelspec": {
      "display_name": "Python 3",
      "name": "python3"
    },
    "language_info": {
      "name": "python"
    }
  },
  "nbformat": 4,
  "nbformat_minor": 0
}