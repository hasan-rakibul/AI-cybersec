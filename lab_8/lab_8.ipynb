{
  "nbformat": 4,
  "nbformat_minor": 0,
  "metadata": {
    "colab": {
      "provenance": [],
      "mount_file_id": "1nEZtpTmCh0gkYemLeITZk5N1mkd2-pFs",
      "authorship_tag": "ABX9TyNsVtMJr+TFK9FQhD6FC/nh",
      "include_colab_link": true
    },
    "kernelspec": {
      "name": "python3",
      "display_name": "Python 3"
    },
    "language_info": {
      "name": "python"
    }
  },
  "cells": [
    {
      "cell_type": "markdown",
      "metadata": {
        "id": "view-in-github",
        "colab_type": "text"
      },
      "source": [
        "<a href=\"https://colab.research.google.com/github/hasan-rakibul/AI-cybersec/blob/main/lab_8/lab_8.ipynb\" target=\"_parent\"><img src=\"https://colab.research.google.com/assets/colab-badge.svg\" alt=\"Open In Colab\"/></a>"
      ]
    },
    {
      "cell_type": "markdown",
      "source": [
        "# Automated fraud detection for improved transaction security\n",
        "In this experiment, we will use transaction data for online purchases collected from an ecommerce retailer. The dataset contains 39,221 transactions, each comprising 5 properties that can be used to describe the transaction, as well as a binary “label” indicating whether this transaction is an instance of fraud — “1” if fraudulent, and “0” if not."
      ],
      "metadata": {
        "id": "5cmDSRKFIe99"
      }
    },
    {
      "cell_type": "markdown",
      "source": [
        "**Reference book:** Chio, C., & Freeman, D. (2018). *Machine learning and security: Protecting systems with data and algorithms* (First edition). O’Reilly Media. (page 27)\n",
        "\n",
        "**Reference programs:** https://github.com/oreilly-mlsec/book-resources/blob/master/chapter2/logistic-regression-fraud-detection.ipynb"
      ],
      "metadata": {
        "id": "pIniFyIAJ3zl"
      }
    },
    {
      "cell_type": "code",
      "source": [
        "import pandas as pd\n",
        "from sklearn.model_selection import train_test_split\n",
        "from sklearn.linear_model import LogisticRegression\n",
        "from sklearn.metrics import accuracy_score, confusion_matrix, roc_auc_score\n",
        "import matplotlib.pyplot as plt"
      ],
      "metadata": {
        "id": "ciPWmYQ-J1Nd"
      },
      "execution_count": 1,
      "outputs": []
    },
    {
      "cell_type": "markdown",
      "source": [
        "## Dataset\n",
        "\n",
        "You can find the dataset at [https://github.com/oreilly-mlsec/book-resources/blob/master/chapter2/datasets/payment_fraud.csv](https://github.com/oreilly-mlsec/book-resources/blob/master/chapter2/datasets/payment_fraud.csv).\n",
        "\n",
        "Download the dataset, and keep it in your Google drive folder (e.g., `Colab Notebooks/AICS/` folder)\n",
        "\n",
        "Mount your Google Drive from the \"Files\" menu."
      ],
      "metadata": {
        "id": "WNokkwrZNQ60"
      }
    },
    {
      "cell_type": "code",
      "source": [
        "# Read in the data from the CSV file\n",
        "transaction_df = pd.read_csv('/content/drive/MyDrive/Colab Notebooks/AICS/payment_fraud.csv')"
      ],
      "metadata": {
        "id": "W_orbOd4KMd6"
      },
      "execution_count": 2,
      "outputs": []
    },
    {
      "cell_type": "markdown",
      "source": [
        "The above line reads in data from a CSV (Comma Separated Values) file and assigns it to a Pandas DataFrame object named \"transaction_df\".\n",
        "\n",
        "- `pd`: This is a reference to the Pandas library, which is commonly used for data manipulation and analysis in Python.\n",
        "- `read_csv()`: This is a function in Pandas that reads a CSV file and creates a DataFrame object from it. The path to the CSV file is passed as an argument to this function.\n",
        "- `/content/drive/MyDrive/Colab Notebooks/AICS/payment_fraud.csv`: This is the path to the CSV file that is being read in. It is a string that specifies the file location on the system.\n",
        "- `transaction_df`: This is the name given to the DataFrame object that is created from the CSV file."
      ],
      "metadata": {
        "id": "-nLsTsBu7jbN"
      }
    },
    {
      "cell_type": "markdown",
      "source": [
        "## Exploratory data analysis"
      ],
      "metadata": {
        "id": "nWR-Kms-j7Vc"
      }
    },
    {
      "cell_type": "code",
      "source": [
        "print(f\"Shape of the dataset: {transaction_df.shape}\")"
      ],
      "metadata": {
        "colab": {
          "base_uri": "https://localhost:8080/"
        },
        "id": "PP31poV-c7dD",
        "outputId": "07b9047f-5da4-45f5-de92-4b3bdc9eee3f"
      },
      "execution_count": 3,
      "outputs": [
        {
          "output_type": "stream",
          "name": "stdout",
          "text": [
            "Shape of the dataset: (39221, 6)\n"
          ]
        }
      ]
    },
    {
      "cell_type": "code",
      "source": [
        "print(f\"\\nSome samples:\\n{transaction_df.sample(5)}\")"
      ],
      "metadata": {
        "colab": {
          "base_uri": "https://localhost:8080/"
        },
        "id": "fbZUFuCsKP_S",
        "outputId": "344f6899-433b-47af-9f91-7a3dded8d669"
      },
      "execution_count": 4,
      "outputs": [
        {
          "output_type": "stream",
          "name": "stdout",
          "text": [
            "\n",
            "Some samples:\n",
            "       accountAgeDays  numItems  localTime paymentMethod  \\\n",
            "21981            1306         1   4.836982    creditcard   \n",
            "9002                3         1   4.965339    creditcard   \n",
            "20069               4         1   4.962055    creditcard   \n",
            "3772             1036         1   5.017904    creditcard   \n",
            "38149             267         1   4.962055    creditcard   \n",
            "\n",
            "       paymentMethodAgeDays  label  \n",
            "21981             24.963889      0  \n",
            "9002               0.000000      0  \n",
            "20069              3.663194      0  \n",
            "3772               0.000000      0  \n",
            "38149              2.936111      0  \n"
          ]
        }
      ]
    },
    {
      "cell_type": "markdown",
      "source": [
        "- `sample(10)`: This is a method in Pandas that returns a random sample of n rows from a DataFrame. In this case, the \"sample()\" method is called on the DataFrame object and 10 rows are selected randomly and printed to the console."
      ],
      "metadata": {
        "id": "8zNwuVjR8152"
      }
    },
    {
      "cell_type": "code",
      "source": [
        "print(f\"\\nHead:\\n{transaction_df.head(1)}\")"
      ],
      "metadata": {
        "colab": {
          "base_uri": "https://localhost:8080/"
        },
        "id": "5lc5Ng1-6V4l",
        "outputId": "66ad6923-6d17-4612-c5da-52d12af4d570"
      },
      "execution_count": 5,
      "outputs": [
        {
          "output_type": "stream",
          "name": "stdout",
          "text": [
            "\n",
            "Head:\n",
            "   accountAgeDays  numItems  localTime paymentMethod  paymentMethodAgeDays  \\\n",
            "0              29         1   4.745402        paypal             28.204861   \n",
            "\n",
            "   label  \n",
            "0      0  \n"
          ]
        }
      ]
    },
    {
      "cell_type": "markdown",
      "source": [
        "- `head(1)`: This is a method in Pandas that returns the first n rows of a DataFrame object. In this case, we're asking for the first row only, so we pass the argument \"1\" to the \"head()\" method.\n",
        "\n",
        "We see that this transaction was made through a user account that was created 29 days ago (accountAgeDays), and that the user purchased 1 item (numItems) at around 4:45 AM in the consumer’s local time (localTime). Payment was made through paypal (paymentMethod), and this method of payment was added about 28 days before the transaction (paymentMethodAgeDays). The label is 0, which indicates that this transaction is not fraudulent."
      ],
      "metadata": {
        "id": "rjzeeU7K6Zel"
      }
    },
    {
      "cell_type": "code",
      "source": [
        "# checking missing/NaN values\n",
        "print(f\"\\nIs there any null values: {transaction_df.isnull().any().any()}\")"
      ],
      "metadata": {
        "colab": {
          "base_uri": "https://localhost:8080/"
        },
        "id": "E-aDV4usjYe7",
        "outputId": "8908a035-dbb4-4487-839f-4463ab951763"
      },
      "execution_count": 6,
      "outputs": [
        {
          "output_type": "stream",
          "name": "stdout",
          "text": [
            "\n",
            "Is there any null values: False\n"
          ]
        }
      ]
    },
    {
      "cell_type": "code",
      "source": [
        "# Plotting - is the dataset balanced?\n",
        "transaction_df['label'].value_counts().plot(\n",
        "    kind='bar',\n",
        "    xlabel='Label',\n",
        "    ylabel='Frequency'\n",
        ")"
      ],
      "metadata": {
        "colab": {
          "base_uri": "https://localhost:8080/",
          "height": 461
        },
        "id": "T4DzJcutlk8L",
        "outputId": "5a67920e-d079-400d-fea0-e1a23506471c"
      },
      "execution_count": 7,
      "outputs": [
        {
          "output_type": "execute_result",
          "data": {
            "text/plain": [
              "<Axes: xlabel='Label', ylabel='Frequency'>"
            ]
          },
          "metadata": {},
          "execution_count": 7
        },
        {
          "output_type": "display_data",
          "data": {
            "text/plain": [
              "<Figure size 640x480 with 1 Axes>"
            ],
            "image/png": "[encoded data removed]"
          },
          "metadata": {}
        }
      ]
    },
    {
      "cell_type": "markdown",
      "source": [
        "## Preprocessing"
      ],
      "metadata": {
        "id": "JsspwkOFkDL0"
      }
    },
    {
      "cell_type": "code",
      "source": [
        "print(f\"\\nColumn data types:\\n{transaction_df.dtypes}\")"
      ],
      "metadata": {
        "colab": {
          "base_uri": "https://localhost:8080/"
        },
        "id": "wMIJolbHdT2S",
        "outputId": "221ad86d-4fce-4358-d5bc-0bcc7c41df00"
      },
      "execution_count": 8,
      "outputs": [
        {
          "output_type": "stream",
          "name": "stdout",
          "text": [
            "\n",
            "Column data types:\n",
            "accountAgeDays            int64\n",
            "numItems                  int64\n",
            "localTime               float64\n",
            "paymentMethod            object\n",
            "paymentMethodAgeDays    float64\n",
            "label                     int64\n",
            "dtype: object\n"
          ]
        }
      ]
    },
    {
      "cell_type": "code",
      "source": [
        "print(f\"\\nUnique payment method: {transaction_df['paymentMethod'].unique()}\")"
      ],
      "metadata": {
        "colab": {
          "base_uri": "https://localhost:8080/"
        },
        "id": "TqPusj8kPK2r",
        "outputId": "5e3dac7f-5151-40d0-c471-0341666f0e5b"
      },
      "execution_count": 9,
      "outputs": [
        {
          "output_type": "stream",
          "name": "stdout",
          "text": [
            "\n",
            "Unique payment method: ['paypal' 'storecredit' 'creditcard']\n"
          ]
        }
      ]
    },
    {
      "cell_type": "code",
      "source": [
        "print(\"\\nFirst three samples before one-hot encoding:\")\n",
        "print(transaction_df.head(3))"
      ],
      "metadata": {
        "colab": {
          "base_uri": "https://localhost:8080/"
        },
        "id": "0DeHa5cLec8L",
        "outputId": "fe64d36a-c1d5-4925-d82a-4cb9a2d9fe11"
      },
      "execution_count": 10,
      "outputs": [
        {
          "output_type": "stream",
          "name": "stdout",
          "text": [
            "\n",
            "First three samples before one-hot encoding:\n",
            "   accountAgeDays  numItems  localTime paymentMethod  paymentMethodAgeDays  \\\n",
            "0              29         1   4.745402        paypal             28.204861   \n",
            "1             725         1   4.742303   storecredit              0.000000   \n",
            "2             845         1   4.921318    creditcard              0.000000   \n",
            "\n",
            "   label  \n",
            "0      0  \n",
            "1      0  \n",
            "2      0  \n"
          ]
        }
      ]
    },
    {
      "cell_type": "code",
      "source": [
        "# Convert categorical feature into dummy variables with one-hot encoding\n",
        "transaction_df = pd.get_dummies(transaction_df, columns=['paymentMethod'])\n",
        "\n",
        "print(\"\\nFirst three samples after one-hot encoding:\")\n",
        "print(transaction_df.head(3))"
      ],
      "metadata": {
        "colab": {
          "base_uri": "https://localhost:8080/"
        },
        "id": "WE60CW15KQ1S",
        "outputId": "584a8971-dedb-4f3d-828b-8e4b2e652a9f"
      },
      "execution_count": 11,
      "outputs": [
        {
          "output_type": "stream",
          "name": "stdout",
          "text": [
            "\n",
            "First three samples after one-hot encoding:\n",
            "   accountAgeDays  numItems  localTime  paymentMethodAgeDays  label  \\\n",
            "0              29         1   4.745402             28.204861      0   \n",
            "1             725         1   4.742303              0.000000      0   \n",
            "2             845         1   4.921318              0.000000      0   \n",
            "\n",
            "   paymentMethod_creditcard  paymentMethod_paypal  paymentMethod_storecredit  \n",
            "0                     False                  True                      False  \n",
            "1                     False                 False                       True  \n",
            "2                      True                 False                      False  \n"
          ]
        }
      ]
    },
    {
      "cell_type": "markdown",
      "source": [
        "It converts a categorical feature in a Pandas DataFrame object named \"transaction_df\" into dummy variables using one-hot encoding. The resulting DataFrame is then assigned back to \"transaction_df\" and a random sample of 3 rows is printed to the console using the \"sample()\" method.\n",
        "\n",
        "- `get_dummies()`: This is a function in Pandas that converts categorical variables into a series of binary variables (0 or 1) using one-hot encoding. The first argument to this function is the DataFrame object that contains the categorical feature, and the second argument is a list of columns to encode. In this case, the \"paymentMethod\" column is specified for encoding.\n",
        "- `columns=['paymentMethod']`: This is a parameter of the \"get_dummies()\" function that specifies the column(s) to encode.\n",
        "- `transaction_df`: This is the name of the DataFrame object that contains the categorical feature to be encoded using one-hot encoding. This object is passed as the first argument to the \"get_dummies()\" function."
      ],
      "metadata": {
        "id": "XGGC55QW8KzM"
      }
    },
    {
      "cell_type": "code",
      "source": [
        "print(f\"\\nColumn data types:\\n{transaction_df.dtypes}\")"
      ],
      "metadata": {
        "colab": {
          "base_uri": "https://localhost:8080/"
        },
        "id": "wvSBOTOrfeQC",
        "outputId": "257933f0-9b14-454a-f7b5-c43a102849ca"
      },
      "execution_count": 12,
      "outputs": [
        {
          "output_type": "stream",
          "name": "stdout",
          "text": [
            "\n",
            "Column data types:\n",
            "accountAgeDays                 int64\n",
            "numItems                       int64\n",
            "localTime                    float64\n",
            "paymentMethodAgeDays         float64\n",
            "label                          int64\n",
            "paymentMethod_creditcard        bool\n",
            "paymentMethod_paypal            bool\n",
            "paymentMethod_storecredit       bool\n",
            "dtype: object\n"
          ]
        }
      ]
    },
    {
      "cell_type": "code",
      "source": [
        "# Split dataset up into train and test sets\n",
        "X = transaction_df.drop('label', axis=1)\n",
        "y = transaction_df['label']\n",
        "\n",
        "X_train, X_test, y_train, y_test = train_test_split(\n",
        "    X,\n",
        "    y,\n",
        "    test_size=0.33,\n",
        "    random_state=17\n",
        ")"
      ],
      "metadata": {
        "id": "2Y5JLhkkKSiL"
      },
      "execution_count": 13,
      "outputs": []
    },
    {
      "cell_type": "markdown",
      "source": [
        "It splits \"transaction_df\" into training and testing sets for machine learning purposes.\n",
        "\n",
        "- `X = transaction_df.drop('label', axis=1)`: This line of code creates a new DataFrame object \"X\" that contains all the features from the \"transaction_df\" DataFrame except the 'label' column. This is done by using the \"drop()\" method on the \"transaction_df\" DataFrame and specifying the 'label' column to be dropped along the axis=1 (columns) dimension.\n",
        "- `y = transaction_df['label']`: This line of code creates a new Pandas Series object \"y\" that contains the values of the 'label' column from the \"transaction_df\" DataFrame.\n",
        "- `train_test_split()`: This is a function in the scikit-learn library that splits a dataset into training and testing subsets. The first argument to this function is the feature set \"X\", the second argument is the target variable \"y\", and the remaining arguments specify the parameters for the split. In this case, we specify that 33% of the data should be used for testing and 67% for training, and we set the random_state parameter to 17 to ensure that the split is reproducible.\n",
        "- `X_train, X_test, y_train, y_test`: This line of code assigns the output of the \"train_test_split()\" function to four variables: \"X_train\", \"X_test\", \"y_train\", and \"y_test\". The first two variables contain the training and testing feature sets, respectively, while the last two variables contain the corresponding target variable subsets."
      ],
      "metadata": {
        "id": "kFCPc3QQ9hKe"
      }
    },
    {
      "cell_type": "markdown",
      "source": [
        "## Classification"
      ],
      "metadata": {
        "id": "P5BdTm-4k1P8"
      }
    },
    {
      "cell_type": "code",
      "source": [
        "# Initialise and train classifier model\n",
        "classifier = LogisticRegression().fit(X_train, y_train)\n",
        "\n",
        "# Make predictions on test set\n",
        "y_pred = classifier.predict(X_test)"
      ],
      "metadata": {
        "id": "g57d4wu9KUmJ"
      },
      "execution_count": 14,
      "outputs": []
    },
    {
      "cell_type": "markdown",
      "source": [
        "It initialises and trains a logistic regression classifier model using the training subset of a dataset, and then uses the trained model to make predictions on the testing subset.\n",
        "\n",
        "- `classifier = LogisticRegression().fit(X_train, y_train)`: This line of code creates a logistic regression classifier object using the scikit-learn library and fits it to the training feature set and target variable. The LogisticRegression() function initializes a new logistic regression classifier object, and the fit() method trains the classifier using the training feature set X_train and target variable y_train.\n",
        "- `y_pred = classifier.predict(X_test)`: This line of code uses the trained logistic regression classifier model to make predictions on the testing feature set X_test, and assigns the predicted values to a new variable y_pred. The predict() method of the classifier takes as input the feature set X_test, and returns an array of predicted values based on the model's learned parameters.\n",
        "\n",
        "Supplementary reading: [Logistic Regression for Machine Learning &ndash; Machine Learning Mastery](https://machinelearningmastery.com/logistic-regression-for-machine-learning/)"
      ],
      "metadata": {
        "id": "1fkLgeT898_-"
      }
    },
    {
      "cell_type": "code",
      "source": [
        "# Compare test set predictions with ground truth labels\n",
        "print(\"\\n====== Evaluation ======\")\n",
        "print(f\"Accuracy: {accuracy_score(y_test, y_pred)}\")\n",
        "print(f\"\\nConfusion matrix:\\n{confusion_matrix(y_test, y_pred)}\")\n",
        "print(f\"\\nROC-AUC: {roc_auc_score(y_test, y_pred)}\")\n",
        "\n",
        "plt.show() # just to show plot, necessary if we are running .py file from command line"
      ],
      "metadata": {
        "colab": {
          "base_uri": "https://localhost:8080/"
        },
        "id": "61MdwEtAKXEB",
        "outputId": "fa9d62b4-e1b9-46b1-d1ee-5699c121ca13"
      },
      "execution_count": 15,
      "outputs": [
        {
          "output_type": "stream",
          "name": "stdout",
          "text": [
            "\n",
            "====== Evaluation ======\n",
            "Accuracy: 1.0\n",
            "\n",
            "Confusion matrix:\n",
            "[[12753     0]\n",
            " [    0   190]]\n",
            "\n",
            "ROC-AUC: 1.0\n"
          ]
        }
      ]
    },
    {
      "cell_type": "markdown",
      "source": [
        "It evaluates the performance of the logistic regression model for fraud detection by comparing its predictions with the ground truth labels of a testing subset.\n",
        "\n",
        "- `accuracy_score(y_pred, y_test)`: This line of code computes the accuracy of the model's predictions on the testing feature set X_test by comparing them to the ground truth labels in the testing target variable y_test. The accuracy_score() function from the scikit-learn library takes as input two arrays, y_pred (the predicted values) and y_test (the actual values), and returns a floating-point value between 0 and 1 that represents the percentage of correct predictions made by the model on the testing set.\n",
        "- `confusion_matrix(y_test, y_pred)`: This line of code computes a confusion matrix for the model's predictions on the testing feature set X_test. A confusion matrix is a table that summarizes the performance of a classification model by comparing its predicted labels with the actual labels. The confusion_matrix() function from the scikit-learn library takes as input two arrays, y_test (the actual values) and y_pred (the predicted values), and returns a 2x2 matrix that shows the number of true positives, true negatives, false positives, and false negatives in the predictions."
      ],
      "metadata": {
        "id": "zudj_ck5-UAd"
      }
    },
    {
      "cell_type": "markdown",
      "source": [
        "## Practice task\n",
        "1. **Effect of scaling**: Investigate how an algorithms (e.g., Logistic Regression) scales with the amount of training data. I.e., vary the amount of training data (e.g., 10%, 20%...) and plot metrics (e.g., ROC-AUC) versus the amount of training data.\n",
        "2. **Other ML models**: In the lab, we used a logistic regression classifier to detect payment fraud. For homework, you could experiment with other classification models like decision trees, random forests, support vector machines or neural networks. Compare their performance on the testing set using metrics like accuracy, precision, recall and F1 score."
      ],
      "metadata": {
        "id": "hTT2Bo5S-VkF"
      }
    },
    {
      "cell_type": "markdown",
      "source": [
        "# Sample solution\n",
        "## 1. Effect of scaling"
      ],
      "metadata": {
        "id": "x4GueLPIXw-i"
      }
    },
    {
      "cell_type": "code",
      "source": [
        "train_sizes = [0.01, 0.02, 0.05, 0.1, 0.2, 0.3, 0.4, 0.5, 0.6]\n",
        "roc_aucs = []\n",
        "for train_size in train_sizes:\n",
        "  X_train, X_test, y_train, y_test = train_test_split(\n",
        "      X,\n",
        "      y,\n",
        "      train_size=train_size,\n",
        "      random_state=10\n",
        "  )\n",
        "  classifier = LogisticRegression(\n",
        "      penalty=None\n",
        "  ).fit(X_train, y_train)\n",
        "  y_pred = classifier.predict(X_test)\n",
        "  roc_auc = roc_auc_score(y_test, y_pred)\n",
        "  roc_aucs.append(roc_auc)\n",
        "\n",
        "plt.plot(train_sizes, roc_aucs)\n",
        "plt.xlabel('Train size')\n",
        "plt.ylabel('ROC-AUC')\n",
        "plt.show()"
      ],
      "metadata": {
        "colab": {
          "base_uri": "https://localhost:8080/",
          "height": 449
        },
        "id": "cYR7rDtPT0av",
        "outputId": "dd601d52-cc5a-44b4-8214-f3195bc394f4"
      },
      "execution_count": 36,
      "outputs": [
        {
          "output_type": "display_data",
          "data": {
            "text/plain": [
              "<Figure size 640x480 with 1 Axes>"
            ],
            "image/png": "[encoded data removed]"
          },
          "metadata": {}
        }
      ]
    },
    {
      "cell_type": "code",
      "source": [],
      "metadata": {
        "id": "rJvpyzSRYSvM"
      },
      "execution_count": null,
      "outputs": []
    }
  ]
}