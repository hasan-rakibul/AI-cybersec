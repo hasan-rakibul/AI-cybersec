{
  "nbformat": 4,
  "nbformat_minor": 0,
  "metadata": {
    "colab": {
      "provenance": [],
      "toc_visible": true,
      "authorship_tag": "ABX9TyNdQWRyQmio8++cNr2teMNP",
      "include_colab_link": true
    },
    "kernelspec": {
      "name": "python3",
      "display_name": "Python 3"
    },
    "language_info": {
      "name": "python"
    }
  },
  "cells": [
    {
      "cell_type": "markdown",
      "metadata": {
        "id": "view-in-github",
        "colab_type": "text"
      },
      "source": [
        "<a href=\"https://colab.research.google.com/github/hasan-rakibul/AI-cybersec/blob/main/Lab%2011/lab_11.ipynb\" target=\"_parent\"><img src=\"https://colab.research.google.com/assets/colab-badge.svg\" alt=\"Open In Colab\"/></a>"
      ]
    },
    {
      "cell_type": "markdown",
      "source": [
        "# Clustering domain URLs using K-means clustering algorithm\n",
        "Spam domains are malicious or suspicious domain names used for various illicit activities, including phishing, malware distribution and spam email campaigns. Clustering these domains helps identify patterns, similarities and clusters of spam domains, enabling the development of more effective detection and mitigation strategies.\n",
        "\n",
        "By applying clustering algorithms to spam domain datasets, we can group similar domains together based on various features such as domain names, registration dates, IP addresses or textual content. This clustering process helps in identifying common characteristics and patterns that are prevalent among spam domains.\n",
        "\n",
        "K-means clustering is a popular unsupervised machine learning algorithm used for partitioning data into distinct groups based on similarities. It aims to minimise the variance within each cluster by iteratively assigning data points to the nearest cluster centroid and updating the centroids. K-means is a simple and efficient algorithm that works well for large datasets. However, it requires specifying the number of clusters (K) in advance."
      ],
      "metadata": {
        "id": "5cmDSRKFIe99"
      }
    },
    {
      "cell_type": "markdown",
      "source": [
        "## Dataset\n",
        "To demonstrate both the cluster generation and cluster scoring steps, we will work with a labeled dataset of internet domain names. The good names are the top 500,000 Alexa sites from May 2014, and the bad names are 13,789 “toxic domains”.\n",
        "\n",
        "Download the datasets and keep it on your Google drive folder (e.g., `Colab Notebooks/AICS/` folder)"
      ],
      "metadata": {
        "id": "WNokkwrZNQ60"
      }
    },
    {
      "cell_type": "code",
      "source": [
        "import numpy as np"
      ],
      "metadata": {
        "id": "ciPWmYQ-J1Nd"
      },
      "execution_count": 1,
      "outputs": []
    },
    {
      "cell_type": "code",
      "source": [
        "from google.colab import drive\n",
        "drive.mount(\"/content/drive\")"
      ],
      "metadata": {
        "id": "zjcDtQBlNCcq",
        "colab": {
          "base_uri": "https://localhost:8080/"
        },
        "outputId": "478d2e03-14e3-4cae-b0cf-a380669f90a0"
      },
      "execution_count": 2,
      "outputs": [
        {
          "output_type": "stream",
          "name": "stdout",
          "text": [
            "Mounted at /content/drive\n"
          ]
        }
      ]
    },
    {
      "cell_type": "code",
      "source": [
        "good_domains = []\n",
        "toxic_domains = []"
      ],
      "metadata": {
        "id": "cetP0f0e4Rv7"
      },
      "execution_count": 3,
      "outputs": []
    },
    {
      "cell_type": "code",
      "source": [
        "# Read good_domains.txt\n",
        "with open('/content/drive/MyDrive/Colab Notebooks/AICS/good_domains.txt', 'r') as f:\n",
        "  good_domains = f.read().splitlines()\n",
        "\n",
        "# Read toxic_domains_whole.txt\n",
        "with open('/content/drive/MyDrive/Colab Notebooks/AICS/toxic_domains_whole.txt', 'r') as f:\n",
        "  toxic_domains = f.read().splitlines()"
      ],
      "metadata": {
        "id": "sXEuhowJ4Rjj"
      },
      "execution_count": 4,
      "outputs": []
    },
    {
      "cell_type": "code",
      "source": [
        "print(\"Five samples of good domains: \", good_domains[1000:1005])\n",
        "print(\"Five samples of toxic domains: \", toxic_domains[1000:1005])"
      ],
      "metadata": {
        "colab": {
          "base_uri": "https://localhost:8080/"
        },
        "id": "_Ay_pl-C9bTX",
        "outputId": "1307837d-b3ca-493e-c08b-48a547b643d2"
      },
      "execution_count": 5,
      "outputs": [
        {
          "output_type": "stream",
          "name": "stdout",
          "text": [
            "Five samples of good domains:  ['101prikaz.ru', '101razasdeperros.com', '101recipe.com', '101secureonline.com', '101shans.ru']\n",
            "Five samples of toxic domains:  ['allaboutemarketing.info', 'allaboutlabyrinths.com', 'alladyn.unixstorm.org', 'allairjordanoutlet.us', 'allairmaxsaleoutlet.us']\n"
          ]
        }
      ]
    },
    {
      "cell_type": "code",
      "source": [
        "print(\"Number of good domains: \", len(good_domains))\n",
        "print(\"Number of toxic domains: \", len(toxic_domains))"
      ],
      "metadata": {
        "colab": {
          "base_uri": "https://localhost:8080/"
        },
        "id": "EsLp_8ps9ug0",
        "outputId": "ee291b92-9d9d-4c62-f0b8-7416fc63c630"
      },
      "execution_count": 6,
      "outputs": [
        {
          "output_type": "stream",
          "name": "stdout",
          "text": [
            "Number of good domains:  500000\n",
            "Number of toxic domains:  13789\n"
          ]
        }
      ]
    },
    {
      "cell_type": "markdown",
      "source": [
        "## Feature extraction\n",
        "Convert the domain URLs into numerical features using a bag-of-words representation. In this representation, we'll consider each unique word in the domain URLs as a feature. We'll use scikit-learn's CountVectorizer for this purpose."
      ],
      "metadata": {
        "id": "mLt9KWf39SPk"
      }
    },
    {
      "cell_type": "code",
      "source": [
        "from sklearn.feature_extraction.text import CountVectorizer"
      ],
      "metadata": {
        "id": "a4PrYzNk4RgS"
      },
      "execution_count": 7,
      "outputs": []
    },
    {
      "cell_type": "code",
      "source": [
        "# Combine the good and toxic domain lists, because the algorithm doesn't suppose to know beforehand which one is good which one is toxic\n",
        "all_domains = good_domains + toxic_domains"
      ],
      "metadata": {
        "id": "J1UKUStu4Rcr"
      },
      "execution_count": 8,
      "outputs": []
    },
    {
      "cell_type": "code",
      "source": [
        "# Create an instance of CountVectorizer\n",
        "vectoriser = CountVectorizer()"
      ],
      "metadata": {
        "id": "lfgygSBV40Ss"
      },
      "execution_count": 9,
      "outputs": []
    },
    {
      "cell_type": "code",
      "source": [
        "# Fit and transform the data to obtain the feature matrix\n",
        "features = vectoriser.fit_transform(all_domains)"
      ],
      "metadata": {
        "id": "_yHOoDY-43zw"
      },
      "execution_count": 10,
      "outputs": []
    },
    {
      "cell_type": "markdown",
      "source": [
        "## Applying K-means clustering\n",
        "Now, we can apply the K-means clustering algorithm to the feature matrix obtained in the previous step. We'll use scikit-learn's KMeans class for this task."
      ],
      "metadata": {
        "id": "YdZfvLYO7L2L"
      }
    },
    {
      "cell_type": "code",
      "source": [
        "from sklearn.cluster import KMeans"
      ],
      "metadata": {
        "id": "uy8y-LLObN_y"
      },
      "execution_count": 11,
      "outputs": []
    },
    {
      "cell_type": "code",
      "source": [
        "# Specify the number of clusters (K)\n",
        "K = 2"
      ],
      "metadata": {
        "id": "wU3AtsAy5B5D"
      },
      "execution_count": 12,
      "outputs": []
    },
    {
      "cell_type": "code",
      "source": [
        "# Create an instance of KMeans\n",
        "kmeans = KMeans(n_clusters=K, random_state=0)"
      ],
      "metadata": {
        "id": "VHB8-O0t5DJk"
      },
      "execution_count": 13,
      "outputs": []
    },
    {
      "cell_type": "code",
      "source": [
        "# Fit the model to the feature matrix\n",
        "kmeans.fit(features)"
      ],
      "metadata": {
        "colab": {
          "base_uri": "https://localhost:8080/",
          "height": 129
        },
        "id": "87LFTw2J5Hnd",
        "outputId": "b45c3a86-7afa-404a-8e8a-694f6f07be1a"
      },
      "execution_count": 14,
      "outputs": [
        {
          "output_type": "stream",
          "name": "stderr",
          "text": [
            "/usr/local/lib/python3.10/dist-packages/sklearn/cluster/_kmeans.py:870: FutureWarning: The default value of `n_init` will change from 10 to 'auto' in 1.4. Set the value of `n_init` explicitly to suppress the warning\n",
            "  warnings.warn(\n"
          ]
        },
        {
          "output_type": "execute_result",
          "data": {
            "text/plain": [
              "KMeans(n_clusters=2, random_state=0)"
            ],
            "text/html": [
              "<style>#sk-container-id-1 {color: black;background-color: white;}#sk-container-id-1 pre{padding: 0;}#sk-container-id-1 div.sk-toggleable {background-color: white;}#sk-container-id-1 label.sk-toggleable__label {cursor: pointer;display: block;width: 100%;margin-bottom: 0;padding: 0.3em;box-sizing: border-box;text-align: center;}#sk-container-id-1 label.sk-toggleable__label-arrow:before {content: \"▸\";float: left;margin-right: 0.25em;color: #696969;}#sk-container-id-1 label.sk-toggleable__label-arrow:hover:before {color: black;}#sk-container-id-1 div.sk-estimator:hover label.sk-toggleable__label-arrow:before {color: black;}#sk-container-id-1 div.sk-toggleable__content {max-height: 0;max-width: 0;overflow: hidden;text-align: left;background-color: #f0f8ff;}#sk-container-id-1 div.sk-toggleable__content pre {margin: 0.2em;color: black;border-radius: 0.25em;background-color: #f0f8ff;}#sk-container-id-1 input.sk-toggleable__control:checked~div.sk-toggleable__content {max-height: 200px;max-width: 100%;overflow: auto;}#sk-container-id-1 input.sk-toggleable__control:checked~label.sk-toggleable__label-arrow:before {content: \"▾\";}#sk-container-id-1 div.sk-estimator input.sk-toggleable__control:checked~label.sk-toggleable__label {background-color: #d4ebff;}#sk-container-id-1 div.sk-label input.sk-toggleable__control:checked~label.sk-toggleable__label {background-color: #d4ebff;}#sk-container-id-1 input.sk-hidden--visually {border: 0;clip: rect(1px 1px 1px 1px);clip: rect(1px, 1px, 1px, 1px);height: 1px;margin: -1px;overflow: hidden;padding: 0;position: absolute;width: 1px;}#sk-container-id-1 div.sk-estimator {font-family: monospace;background-color: #f0f8ff;border: 1px dotted black;border-radius: 0.25em;box-sizing: border-box;margin-bottom: 0.5em;}#sk-container-id-1 div.sk-estimator:hover {background-color: #d4ebff;}#sk-container-id-1 div.sk-parallel-item::after {content: \"\";width: 100%;border-bottom: 1px solid gray;flex-grow: 1;}#sk-container-id-1 div.sk-label:hover label.sk-toggleable__label {background-color: #d4ebff;}#sk-container-id-1 div.sk-serial::before {content: \"\";position: absolute;border-left: 1px solid gray;box-sizing: border-box;top: 0;bottom: 0;left: 50%;z-index: 0;}#sk-container-id-1 div.sk-serial {display: flex;flex-direction: column;align-items: center;background-color: white;padding-right: 0.2em;padding-left: 0.2em;position: relative;}#sk-container-id-1 div.sk-item {position: relative;z-index: 1;}#sk-container-id-1 div.sk-parallel {display: flex;align-items: stretch;justify-content: center;background-color: white;position: relative;}#sk-container-id-1 div.sk-item::before, #sk-container-id-1 div.sk-parallel-item::before {content: \"\";position: absolute;border-left: 1px solid gray;box-sizing: border-box;top: 0;bottom: 0;left: 50%;z-index: -1;}#sk-container-id-1 div.sk-parallel-item {display: flex;flex-direction: column;z-index: 1;position: relative;background-color: white;}#sk-container-id-1 div.sk-parallel-item:first-child::after {align-self: flex-end;width: 50%;}#sk-container-id-1 div.sk-parallel-item:last-child::after {align-self: flex-start;width: 50%;}#sk-container-id-1 div.sk-parallel-item:only-child::after {width: 0;}#sk-container-id-1 div.sk-dashed-wrapped {border: 1px dashed gray;margin: 0 0.4em 0.5em 0.4em;box-sizing: border-box;padding-bottom: 0.4em;background-color: white;}#sk-container-id-1 div.sk-label label {font-family: monospace;font-weight: bold;display: inline-block;line-height: 1.2em;}#sk-container-id-1 div.sk-label-container {text-align: center;}#sk-container-id-1 div.sk-container {/* jupyter's `normalize.less` sets `[hidden] { display: none; }` but bootstrap.min.css set `[hidden] { display: none !important; }` so we also need the `!important` here to be able to override the default hidden behavior on the sphinx rendered scikit-learn.org. See: https://github.com/scikit-learn/scikit-learn/issues/21755 */display: inline-block !important;position: relative;}#sk-container-id-1 div.sk-text-repr-fallback {display: none;}</style><div id=\"sk-container-id-1\" class=\"sk-top-container\"><div class=\"sk-text-repr-fallback\"><pre>KMeans(n_clusters=2, random_state=0)</pre><b>In a Jupyter environment, please rerun this cell to show the HTML representation or trust the notebook. <br />On GitHub, the HTML representation is unable to render, please try loading this page with nbviewer.org.</b></div><div class=\"sk-container\" hidden><div class=\"sk-item\"><div class=\"sk-estimator sk-toggleable\"><input class=\"sk-toggleable__control sk-hidden--visually\" id=\"sk-estimator-id-1\" type=\"checkbox\" checked><label for=\"sk-estimator-id-1\" class=\"sk-toggleable__label sk-toggleable__label-arrow\">KMeans</label><div class=\"sk-toggleable__content\"><pre>KMeans(n_clusters=2, random_state=0)</pre></div></div></div></div></div>"
            ]
          },
          "metadata": {},
          "execution_count": 14
        }
      ]
    },
    {
      "cell_type": "markdown",
      "source": [
        "## Analysing the clustering results\n",
        "After clustering, we can analyse the results to see which domains belong to which cluster."
      ],
      "metadata": {
        "id": "U-tLgffr60Dd"
      }
    },
    {
      "cell_type": "code",
      "source": [
        "# Get the cluster labels for each domain\n",
        "labels = kmeans.labels_"
      ],
      "metadata": {
        "id": "vUD286pjbN6W"
      },
      "execution_count": 15,
      "outputs": []
    },
    {
      "cell_type": "code",
      "source": [
        "# Separate the domains into their respective clusters\n",
        "good_domains_cluster = []\n",
        "toxic_domains_cluster = []"
      ],
      "metadata": {
        "id": "BWfWUqWJ7gI1"
      },
      "execution_count": 16,
      "outputs": []
    },
    {
      "cell_type": "code",
      "source": [
        "for i, domain in enumerate(all_domains):\n",
        "  if labels[i] == 0:\n",
        "    good_domains_cluster.append(domain)\n",
        "  else:\n",
        "    toxic_domains_cluster.append(domain)"
      ],
      "metadata": {
        "id": "UTsxSs1v7lzU"
      },
      "execution_count": 17,
      "outputs": []
    },
    {
      "cell_type": "markdown",
      "source": [
        "## Saving clusters"
      ],
      "metadata": {
        "id": "AMPSwCJY_dD7"
      }
    },
    {
      "cell_type": "code",
      "source": [
        "# Specify the output file paths\n",
        "good_domains_file = \"good_domains_cluster.txt\"\n",
        "toxic_domains_file = \"toxic_domains_cluster.txt\""
      ],
      "metadata": {
        "id": "crApXJGW71ie"
      },
      "execution_count": 18,
      "outputs": []
    },
    {
      "cell_type": "code",
      "source": [
        "# Open the output files in write mode\n",
        "with open(good_domains_file, 'w') as f:\n",
        "  # Write the good domains to the file\n",
        "  f.write('\\n'.join(good_domains_cluster))\n",
        "\n",
        "with open(toxic_domains_file, 'w') as f:\n",
        "  f.write('\\n'.join(toxic_domains_cluster))"
      ],
      "metadata": {
        "id": "bLFY2UYj8ZqN"
      },
      "execution_count": 19,
      "outputs": []
    },
    {
      "cell_type": "markdown",
      "source": [
        "## Calculate clustering performacne\n",
        "In this code snippet, we use the `accuracy_score` function from scikit-learn's metrics module to calculate the accuracy. We pass the ground truth labels (ground_truth_labels) and the cluster labels obtained from K-means (labels) as input to the `accuracy_score` function."
      ],
      "metadata": {
        "id": "7Uj3juVKH1Bg"
      }
    },
    {
      "cell_type": "code",
      "source": [
        "from sklearn.metrics import accuracy_score\n",
        "\n",
        "# Create ground truth labels\n",
        "ground_truth_labels = [0] * len(good_domains) + [1] * len(toxic_domains)\n",
        "\n",
        "# Calculate accuracy\n",
        "accuracy = accuracy_score(ground_truth_labels, labels)\n",
        "\n",
        "# Print the accuracy value\n",
        "print(\"Accuracy:\", accuracy)"
      ],
      "metadata": {
        "colab": {
          "base_uri": "https://localhost:8080/"
        },
        "id": "DzPzq1aAARo9",
        "outputId": "369ad99b-757b-4146-b130-bd6f048a75be"
      },
      "execution_count": 20,
      "outputs": [
        {
          "output_type": "stream",
          "name": "stdout",
          "text": [
            "Accuracy: 0.4107386495234425\n"
          ]
        }
      ]
    },
    {
      "cell_type": "markdown",
      "source": [
        "## Practice task\n",
        "Instead of the whole dataset, use only the last 5000 domains from each dataset (`good_domains.txt` and `toxic_domains_whole.txt`). Cluster the good and toxic domains and report accuracy, precision and recall."
      ],
      "metadata": {
        "id": "hTT2Bo5S-VkF"
      }
    }
  ]
}