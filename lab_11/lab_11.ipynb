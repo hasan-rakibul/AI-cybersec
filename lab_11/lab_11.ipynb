{
  "nbformat": 4,
  "nbformat_minor": 0,
  "metadata": {
    "colab": {
      "provenance": [],
      "toc_visible": true,
      "mount_file_id": "1FdBmi9SndI5TsvaNRGOcxIPMrqwJ4aPX",
      "authorship_tag": "ABX9TyMRKMW04bPk8g47+Wq8RduF",
      "include_colab_link": true
    },
    "kernelspec": {
      "name": "python3",
      "display_name": "Python 3"
    },
    "language_info": {
      "name": "python"
    }
  },
  "cells": [
    {
      "cell_type": "markdown",
      "metadata": {
        "id": "view-in-github",
        "colab_type": "text"
      },
      "source": [
        "<a href=\"https://colab.research.google.com/github/hasan-rakibul/AI-cybersec/blob/main/lab_11/lab_11.ipynb\" target=\"_parent\"><img src=\"https://colab.research.google.com/assets/colab-badge.svg\" alt=\"Open In Colab\"/></a>"
      ]
    },
    {
      "cell_type": "markdown",
      "source": [
        "# Clustering domain URLs using K-means clustering algorithm\n",
        "Spam domains are malicious or suspicious domain names used for various illicit activities, including phishing, malware distribution and spam email campaigns. Clustering these domains helps identify patterns, similarities and clusters of spam domains, enabling the development of more effective detection and mitigation strategies.\n",
        "\n",
        "By applying clustering algorithms to spam domain datasets, we can group similar domains together based on various features such as domain names, registration dates, IP addresses or textual content. This clustering process helps in identifying common characteristics and patterns that are prevalent among spam domains.\n",
        "\n",
        "K-means clustering is a popular unsupervised machine learning algorithm used for partitioning data into distinct groups based on similarities. It aims to minimise the variance within each cluster by iteratively assigning data points to the nearest cluster centroid and updating the centroids. K-means is a simple and efficient algorithm that works well for large datasets. However, it requires specifying the number of clusters (K) in advance.\n",
        "\n",
        "### Supplementary reading\n",
        "- [https://www.geeksforgeeks.org/k-means-clustering-introduction/](https://www.geeksforgeeks.org/k-means-clustering-introduction/)\n",
        "- Chio, C., & Freeman, D. (2018). _Machine learning and security: Protecting systems with data and algorithms_ (First edition). O’Reilly Media. (page 261)"
      ],
      "metadata": {
        "id": "5cmDSRKFIe99"
      }
    },
    {
      "cell_type": "markdown",
      "source": [
        "## Dataset\n",
        "To demonstrate both the cluster generation and cluster scoring steps, we will work with a labeled dataset of internet domain names. The good names are the [top 500,000 Alexa sites from May 2014](https://hackertarget.com/500k-http-headers/), and the bad names are 13,789 “toxic domains” from [stopforumspam](https://www.stopforumspam.com/downloads).\n",
        "\n",
        "You can find the datasets (`good_domains.txt`, `toxic_domains_whole.txt`) at [https://github.com/oreilly-mlsec/book-resources/tree/master/chapter6/datasets](https://github.com/oreilly-mlsec/book-resources/tree/master/chapter6/datasets)\n",
        "\n",
        "Download the datasets, and keep them in your Google Drive folder (e.g., `Colab Notebooks/AICS/` folder)\n",
        "\n",
        "Mount your Google Drive from the \"Files\" menu."
      ],
      "metadata": {
        "id": "WNokkwrZNQ60"
      }
    },
    {
      "cell_type": "code",
      "source": [
        "import numpy as np"
      ],
      "metadata": {
        "id": "ciPWmYQ-J1Nd"
      },
      "execution_count": 1,
      "outputs": []
    },
    {
      "cell_type": "code",
      "source": [
        "good_domains = []\n",
        "toxic_domains = []"
      ],
      "metadata": {
        "id": "cetP0f0e4Rv7"
      },
      "execution_count": 2,
      "outputs": []
    },
    {
      "cell_type": "code",
      "source": [
        "# Read good_domains.txt\n",
        "with open('/content/drive/MyDrive/Colab Notebooks/AICS/good_domains.txt', 'r') as f:\n",
        "  good_domains = f.read().splitlines()\n",
        "\n",
        "# Read toxic_domains_whole.txt\n",
        "with open('/content/drive/MyDrive/Colab Notebooks/AICS/toxic_domains_whole.txt', 'r') as f:\n",
        "  toxic_domains = f.read().splitlines()"
      ],
      "metadata": {
        "id": "sXEuhowJ4Rjj"
      },
      "execution_count": 3,
      "outputs": []
    },
    {
      "cell_type": "code",
      "source": [
        "print(\"Five samples of good domains: \", good_domains[1000:1005])\n",
        "print(\"Five samples of toxic domains: \", toxic_domains[1000:1005])"
      ],
      "metadata": {
        "colab": {
          "base_uri": "https://localhost:8080/"
        },
        "id": "_Ay_pl-C9bTX",
        "outputId": "26fdacf1-838f-4c65-a015-330e4a77b70f"
      },
      "execution_count": 4,
      "outputs": [
        {
          "output_type": "stream",
          "name": "stdout",
          "text": [
            "Five samples of good domains:  ['101prikaz.ru', '101razasdeperros.com', '101recipe.com', '101secureonline.com', '101shans.ru']\n",
            "Five samples of toxic domains:  ['allaboutemarketing.info', 'allaboutlabyrinths.com', 'alladyn.unixstorm.org', 'allairjordanoutlet.us', 'allairmaxsaleoutlet.us']\n"
          ]
        }
      ]
    },
    {
      "cell_type": "code",
      "source": [
        "print(\"Number of good domains: \", len(good_domains))\n",
        "print(\"Number of toxic domains: \", len(toxic_domains))"
      ],
      "metadata": {
        "colab": {
          "base_uri": "https://localhost:8080/"
        },
        "id": "EsLp_8ps9ug0",
        "outputId": "0e71d800-8752-4deb-b457-cb7bf19696e3"
      },
      "execution_count": 5,
      "outputs": [
        {
          "output_type": "stream",
          "name": "stdout",
          "text": [
            "Number of good domains:  500000\n",
            "Number of toxic domains:  13789\n"
          ]
        }
      ]
    },
    {
      "cell_type": "markdown",
      "source": [
        "## Feature extraction\n",
        "Convert the domain URLs into numerical features using a bag-of-words representation. In this representation, we'll consider each unique word in the domain URLs as a feature. We'll use scikit-learn's CountVectorizer for this purpose."
      ],
      "metadata": {
        "id": "mLt9KWf39SPk"
      }
    },
    {
      "cell_type": "code",
      "source": [
        "from sklearn.feature_extraction.text import CountVectorizer"
      ],
      "metadata": {
        "id": "a4PrYzNk4RgS"
      },
      "execution_count": 6,
      "outputs": []
    },
    {
      "cell_type": "code",
      "source": [
        "# Combine the good and toxic domain lists, because the algorithm doesn't suppose to know beforehand which one is good which one is toxic\n",
        "all_domains = good_domains + toxic_domains"
      ],
      "metadata": {
        "id": "J1UKUStu4Rcr"
      },
      "execution_count": 7,
      "outputs": []
    },
    {
      "cell_type": "code",
      "source": [
        "# Create an instance of CountVectorizer\n",
        "vectoriser = CountVectorizer()"
      ],
      "metadata": {
        "id": "lfgygSBV40Ss"
      },
      "execution_count": 8,
      "outputs": []
    },
    {
      "cell_type": "code",
      "source": [
        "# Fit and transform the data to obtain the feature matrix\n",
        "features = vectoriser.fit_transform(all_domains)\n",
        "print(features.shape)"
      ],
      "metadata": {
        "id": "_yHOoDY-43zw",
        "colab": {
          "base_uri": "https://localhost:8080/"
        },
        "outputId": "c5055bae-d730-405c-db87-6bd2123610d8"
      },
      "execution_count": 9,
      "outputs": [
        {
          "output_type": "stream",
          "name": "stdout",
          "text": [
            "(513789, 445576)\n"
          ]
        }
      ]
    },
    {
      "cell_type": "markdown",
      "source": [
        "## Applying K-means clustering\n",
        "Now, we can apply the K-means clustering algorithm to the feature matrix obtained in the previous step. We'll use scikit-learn's KMeans class for this task."
      ],
      "metadata": {
        "id": "YdZfvLYO7L2L"
      }
    },
    {
      "cell_type": "code",
      "source": [
        "from sklearn.cluster import KMeans"
      ],
      "metadata": {
        "id": "uy8y-LLObN_y"
      },
      "execution_count": 10,
      "outputs": []
    },
    {
      "cell_type": "code",
      "source": [
        "# Specify the number of clusters (K)\n",
        "# Assuming there are two clusters: good and toxic\n",
        "K = 2"
      ],
      "metadata": {
        "id": "wU3AtsAy5B5D"
      },
      "execution_count": 11,
      "outputs": []
    },
    {
      "cell_type": "code",
      "source": [
        "# Create an instance of KMeans\n",
        "kmeans = KMeans(n_clusters=K, random_state=0)"
      ],
      "metadata": {
        "id": "VHB8-O0t5DJk"
      },
      "execution_count": 12,
      "outputs": []
    },
    {
      "cell_type": "code",
      "source": [
        "# Fit the model to the feature matrix\n",
        "# Compute cluster centers and predict cluster index for each sample.\n",
        "labels = kmeans.fit_predict(features)"
      ],
      "metadata": {
        "colab": {
          "base_uri": "https://localhost:8080/"
        },
        "id": "87LFTw2J5Hnd",
        "outputId": "a7a8e18c-0840-4db7-b0b7-c8a7e2edb1c2"
      },
      "execution_count": 13,
      "outputs": [
        {
          "output_type": "stream",
          "name": "stderr",
          "text": [
            "/usr/local/lib/python3.10/dist-packages/sklearn/cluster/_kmeans.py:870: FutureWarning: The default value of `n_init` will change from 10 to 'auto' in 1.4. Set the value of `n_init` explicitly to suppress the warning\n",
            "  warnings.warn(\n"
          ]
        }
      ]
    },
    {
      "cell_type": "markdown",
      "source": [
        "## Analysing the clustering results\n",
        "After clustering, we can analyse the results to see which domains belong to which cluster."
      ],
      "metadata": {
        "id": "U-tLgffr60Dd"
      }
    },
    {
      "cell_type": "code",
      "source": [
        "# Separate the domains into their respective clusters\n",
        "cluster_0 = []\n",
        "cluster_1 = []"
      ],
      "metadata": {
        "id": "BWfWUqWJ7gI1"
      },
      "execution_count": 14,
      "outputs": []
    },
    {
      "cell_type": "code",
      "source": [
        "for i, domain in enumerate(all_domains):\n",
        "  if labels[i] == 0:\n",
        "    cluster_0.append(domain)\n",
        "  else:\n",
        "    cluster_1.append(domain)"
      ],
      "metadata": {
        "id": "UTsxSs1v7lzU"
      },
      "execution_count": 15,
      "outputs": []
    },
    {
      "cell_type": "markdown",
      "source": [
        "### Saving clusters"
      ],
      "metadata": {
        "id": "AMPSwCJY_dD7"
      }
    },
    {
      "cell_type": "code",
      "source": [
        "# Open the output files in write mode\n",
        "with open(\"cluster_0.txt\", 'w') as f:\n",
        "  # Write the good domains to the file\n",
        "  f.write('\\n'.join(cluster_0))\n",
        "\n",
        "with open(\"cluster_1.txt\", 'w') as f:\n",
        "  f.write('\\n'.join(cluster_1))"
      ],
      "metadata": {
        "id": "bLFY2UYj8ZqN"
      },
      "execution_count": 16,
      "outputs": []
    },
    {
      "cell_type": "markdown",
      "source": [
        "You may see one of cluster includes mostly .com domains, and the other one includes domains except .com. Presumably, this is the pattern the K-Means algorithm found out."
      ],
      "metadata": {
        "id": "oBnsXGE4HrMl"
      }
    },
    {
      "cell_type": "markdown",
      "source": [
        "### Elbow method to find optimum number of clusters\n",
        "Earlier we assumed two clusters, which may not be true. The number of cluster can be determined through Elbow plot."
      ],
      "metadata": {
        "id": "7Uj3juVKH1Bg"
      }
    },
    {
      "cell_type": "code",
      "source": [
        "import matplotlib.pyplot as plt\n",
        "\n",
        "K_range = range(1, 10)\n",
        "sse = []\n",
        "for K in K_range:\n",
        "  kmeans = KMeans(n_clusters=K, random_state=0)\n",
        "  kmeans.fit(features)\n",
        "  sse.append(kmeans.inertia_)\n",
        "\n",
        "plt.plot(K_range, sse)\n",
        "plt.xlabel(\"K\")\n",
        "plt.ylabel(\"SSE\")"
      ],
      "metadata": {
        "colab": {
          "base_uri": "https://localhost:8080/",
          "height": 467
        },
        "id": "rQFhDVkv5EPK",
        "outputId": "10651b10-18e8-45ea-c9d7-9c10b890fa42"
      },
      "execution_count": 17,
      "outputs": [
        {
          "output_type": "execute_result",
          "data": {
            "text/plain": [
              "Text(0, 0.5, 'SSE')"
            ]
          },
          "metadata": {},
          "execution_count": 17
        },
        {
          "output_type": "display_data",
          "data": {
            "text/plain": [
              "<Figure size 640x480 with 1 Axes>"
            ],
            "image/png": "[encoded data removed]"
          },
          "metadata": {}
        }
      ]
    },
    {
      "cell_type": "markdown",
      "source": [
        "### Silhoutte score"
      ],
      "metadata": {
        "id": "kQyoClUXPnIn"
      }
    },
    {
      "cell_type": "markdown",
      "source": [
        "As mentioned in the [Wikipedia page of Silhouette score](https://en.wikipedia.org/wiki/Silhouette_(clustering)), \"The silhouette value is a measure of how similar an object is to its own cluster (cohesion) compared to other clusters (separation). The silhouette ranges from −1 to +1, where a high value indicates that the object is well matched to its own cluster and poorly matched to neighboring clusters.\""
      ],
      "metadata": {
        "id": "QtUVmHmJPSHQ"
      }
    },
    {
      "cell_type": "code",
      "source": [
        "from sklearn.metrics import silhouette_score\n",
        "\n",
        "# Because of the big shape of features, it takes a while to calculate on all samples\n",
        "# To demonstrate, we calculate the score for 10000 samples, as follows\n",
        "print(\"Silhouette score:\", silhouette_score(features[:10000, :], labels[:10000]))"
      ],
      "metadata": {
        "colab": {
          "base_uri": "https://localhost:8080/"
        },
        "id": "XmzsNIdb0ow2",
        "outputId": "aeed44ac-0c58-4685-b9b5-76b2ffc80bf2"
      },
      "execution_count": 18,
      "outputs": [
        {
          "output_type": "stream",
          "name": "stdout",
          "text": [
            "Silhouette score: 0.1689847820961492\n"
          ]
        }
      ]
    },
    {
      "cell_type": "markdown",
      "source": [
        "## Practice task\n",
        "Instead of the whole dataset, use only the last 5000 domains from each dataset (`good_domains.txt` and `toxic_domains_whole.txt`). Cluster the good and toxic domains and report accuracy, precision and recall."
      ],
      "metadata": {
        "id": "hTT2Bo5S-VkF"
      }
    }
  ]
}