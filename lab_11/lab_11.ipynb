{
  "nbformat": 4,
  "nbformat_minor": 0,
  "metadata": {
    "colab": {
      "provenance": [],
      "mount_file_id": "1FdBmi9SndI5TsvaNRGOcxIPMrqwJ4aPX",
      "authorship_tag": "ABX9TyMx4b0E/+r2X5LRM9eRR4Gf",
      "include_colab_link": true
    },
    "kernelspec": {
      "name": "python3",
      "display_name": "Python 3"
    },
    "language_info": {
      "name": "python"
    }
  },
  "cells": [
    {
      "cell_type": "markdown",
      "metadata": {
        "id": "view-in-github",
        "colab_type": "text"
      },
      "source": [
        "<a href=\"https://colab.research.google.com/github/hasan-rakibul/AI-cybersec/blob/main/lab_11/lab_11.ipynb\" target=\"_parent\"><img src=\"https://colab.research.google.com/assets/colab-badge.svg\" alt=\"Open In Colab\"/></a>"
      ]
    },
    {
      "cell_type": "markdown",
      "source": [
        "# Clustering domain URLs using K-means clustering algorithm\n",
        "Spam domains are malicious or suspicious domain names used for various illicit activities, including phishing, malware distribution and spam email campaigns. Clustering these domains helps identify patterns, similarities and clusters of spam domains, enabling the development of more effective detection and mitigation strategies.\n",
        "\n",
        "By applying clustering algorithms to spam domain datasets, we can group similar domains together based on various features such as domain names, registration dates, IP addresses or textual content. This clustering process helps in identifying common characteristics and patterns that are prevalent among spam domains.\n",
        "\n",
        "K-means clustering is a popular unsupervised machine learning algorithm used for partitioning data into distinct groups based on similarities. It aims to minimise the variance within each cluster by iteratively assigning data points to the nearest cluster centroid and updating the centroids. K-means is a simple and efficient algorithm that works well for large datasets. However, it requires specifying the number of clusters (K) in advance.\n",
        "\n",
        "### Supplementary reading\n",
        "- [https://www.geeksforgeeks.org/k-means-clustering-introduction/](https://www.geeksforgeeks.org/k-means-clustering-introduction/)\n",
        "- Chio, C., & Freeman, D. (2018). _Machine learning and security: Protecting systems with data and algorithms_ (First edition). O’Reilly Media. (page 261)"
      ],
      "metadata": {
        "id": "5cmDSRKFIe99"
      }
    },
    {
      "cell_type": "markdown",
      "source": [
        "## Dataset\n",
        "To demonstrate both the cluster generation and cluster scoring steps, we will work with a labeled dataset of internet domain names. The good names are the [top 500,000 Alexa sites from May 2014](https://hackertarget.com/500k-http-headers/), and the bad names are 13,789 “toxic domains” from [stopforumspam](https://www.stopforumspam.com/downloads).\n",
        "\n",
        "You can find the datasets (`good_domains.txt`, `toxic_domains_whole.txt`) at [https://github.com/oreilly-mlsec/book-resources/tree/master/chapter6/datasets](https://github.com/oreilly-mlsec/book-resources/tree/master/chapter6/datasets)\n",
        "\n",
        "Download the datasets, and keep them in your Google Drive folder (e.g., `Colab Notebooks/AICS/` folder)\n",
        "\n",
        "Mount your Google Drive from the \"Files\" menu."
      ],
      "metadata": {
        "id": "WNokkwrZNQ60"
      }
    },
    {
      "cell_type": "code",
      "source": [
        "import numpy as np"
      ],
      "metadata": {
        "id": "ciPWmYQ-J1Nd"
      },
      "execution_count": 1,
      "outputs": []
    },
    {
      "cell_type": "code",
      "source": [
        "good_domains = []\n",
        "toxic_domains = []"
      ],
      "metadata": {
        "id": "cetP0f0e4Rv7"
      },
      "execution_count": 2,
      "outputs": []
    },
    {
      "cell_type": "code",
      "source": [
        "# Read good_domains.txt\n",
        "with open('/content/drive/MyDrive/Colab Notebooks/AICS/good_domains.txt', 'r') as f:\n",
        "  good_domains = f.read().splitlines()\n",
        "\n",
        "# Read toxic_domains_whole.txt\n",
        "with open('/content/drive/MyDrive/Colab Notebooks/AICS/toxic_domains_whole.txt', 'r') as f:\n",
        "  toxic_domains = f.read().splitlines()"
      ],
      "metadata": {
        "id": "sXEuhowJ4Rjj"
      },
      "execution_count": 3,
      "outputs": []
    },
    {
      "cell_type": "code",
      "source": [
        "print(\"Five samples of good domains: \", good_domains[1000:1005])\n",
        "print(\"Five samples of toxic domains: \", toxic_domains[1000:1005])"
      ],
      "metadata": {
        "colab": {
          "base_uri": "https://localhost:8080/"
        },
        "id": "_Ay_pl-C9bTX",
        "outputId": "6e48603b-5bc9-4e38-b8a3-e29a6a1615d0"
      },
      "execution_count": 4,
      "outputs": [
        {
          "output_type": "stream",
          "name": "stdout",
          "text": [
            "Five samples of good domains:  ['101prikaz.ru', '101razasdeperros.com', '101recipe.com', '101secureonline.com', '101shans.ru']\n",
            "Five samples of toxic domains:  ['allaboutemarketing.info', 'allaboutlabyrinths.com', 'alladyn.unixstorm.org', 'allairjordanoutlet.us', 'allairmaxsaleoutlet.us']\n"
          ]
        }
      ]
    },
    {
      "cell_type": "code",
      "source": [
        "print(\"Number of good domains: \", len(good_domains))\n",
        "print(\"Number of toxic domains: \", len(toxic_domains))"
      ],
      "metadata": {
        "colab": {
          "base_uri": "https://localhost:8080/"
        },
        "id": "EsLp_8ps9ug0",
        "outputId": "085dcfb0-a0e9-4d56-fc0c-b53892afd21e"
      },
      "execution_count": 5,
      "outputs": [
        {
          "output_type": "stream",
          "name": "stdout",
          "text": [
            "Number of good domains:  500000\n",
            "Number of toxic domains:  13789\n"
          ]
        }
      ]
    },
    {
      "cell_type": "markdown",
      "source": [
        "## Feature extraction\n",
        "Convert the domain URLs into numerical features using a bag-of-words representation. In this representation, we'll consider each unique word in the domain URLs as a feature. We'll use scikit-learn's CountVectorizer for this purpose."
      ],
      "metadata": {
        "id": "mLt9KWf39SPk"
      }
    },
    {
      "cell_type": "code",
      "source": [
        "from sklearn.feature_extraction.text import CountVectorizer"
      ],
      "metadata": {
        "id": "a4PrYzNk4RgS"
      },
      "execution_count": 6,
      "outputs": []
    },
    {
      "cell_type": "code",
      "source": [
        "# Combine the good and toxic domain lists, because the algorithm doesn't suppose to know beforehand which one is good which one is toxic\n",
        "all_domains = good_domains + toxic_domains\n",
        "print(f\"Total number of domains: {len(all_domains)}\")"
      ],
      "metadata": {
        "id": "J1UKUStu4Rcr",
        "colab": {
          "base_uri": "https://localhost:8080/"
        },
        "outputId": "c19ab113-c7b4-49d9-8274-bf08ec138b01"
      },
      "execution_count": 7,
      "outputs": [
        {
          "output_type": "stream",
          "name": "stdout",
          "text": [
            "Total number of domains: 513789\n"
          ]
        }
      ]
    },
    {
      "cell_type": "code",
      "source": [
        "# Create an instance of CountVectorizer\n",
        "vectoriser = CountVectorizer()"
      ],
      "metadata": {
        "id": "lfgygSBV40Ss"
      },
      "execution_count": 8,
      "outputs": []
    },
    {
      "cell_type": "code",
      "source": [
        "# Fit and transform the data to obtain the feature matrix\n",
        "features = vectoriser.fit_transform(all_domains)\n",
        "print(f\"Feature shape: {features.shape}\")"
      ],
      "metadata": {
        "id": "_yHOoDY-43zw",
        "colab": {
          "base_uri": "https://localhost:8080/"
        },
        "outputId": "09aec275-228c-42e7-88c0-132db8f226b3"
      },
      "execution_count": 9,
      "outputs": [
        {
          "output_type": "stream",
          "name": "stdout",
          "text": [
            "Feature shape: (513789, 445576)\n"
          ]
        }
      ]
    },
    {
      "cell_type": "code",
      "source": [
        "print(f\"Some sample features:\\n{features[100:105].todense()}\")"
      ],
      "metadata": {
        "colab": {
          "base_uri": "https://localhost:8080/"
        },
        "id": "JjoyRyH0VLk_",
        "outputId": "1b8bb164-60eb-4b54-9ea0-7fd8e97d51d3"
      },
      "execution_count": 10,
      "outputs": [
        {
          "output_type": "stream",
          "name": "stdout",
          "text": [
            "Some sample features:\n",
            "[[0 0 0 ... 0 0 0]\n",
            " [0 0 0 ... 0 0 0]\n",
            " [0 0 0 ... 0 0 0]\n",
            " [0 0 0 ... 0 0 0]\n",
            " [0 0 0 ... 0 0 0]]\n"
          ]
        }
      ]
    },
    {
      "cell_type": "markdown",
      "source": [
        "## Applying K-means clustering\n",
        "Now, we can apply the K-means clustering algorithm to the feature matrix obtained in the previous step. We'll use scikit-learn's KMeans class for this task."
      ],
      "metadata": {
        "id": "YdZfvLYO7L2L"
      }
    },
    {
      "cell_type": "code",
      "source": [
        "from sklearn.cluster import KMeans"
      ],
      "metadata": {
        "id": "uy8y-LLObN_y"
      },
      "execution_count": 11,
      "outputs": []
    },
    {
      "cell_type": "code",
      "source": [
        "# Specify the number of clusters (K)\n",
        "# Assuming there are two clusters: good and toxic\n",
        "K = 2"
      ],
      "metadata": {
        "id": "wU3AtsAy5B5D"
      },
      "execution_count": 12,
      "outputs": []
    },
    {
      "cell_type": "code",
      "source": [
        "# Create an instance of KMeans\n",
        "kmeans = KMeans(\n",
        "    n_clusters=K,\n",
        "    random_state=0,\n",
        "    n_init=10 # number of initialisation\n",
        ")"
      ],
      "metadata": {
        "id": "VHB8-O0t5DJk"
      },
      "execution_count": 13,
      "outputs": []
    },
    {
      "cell_type": "code",
      "source": [
        "# Fit the model to the feature matrix\n",
        "# Compute cluster centers and predict cluster index for each sample.\n",
        "labels = kmeans.fit_predict(features)\n",
        "print(f\"Labels: {labels}\") # we have two clusters - 0 and 1\n",
        "print(f\"Total labels: {len(labels)}\")"
      ],
      "metadata": {
        "id": "87LFTw2J5Hnd",
        "colab": {
          "base_uri": "https://localhost:8080/"
        },
        "outputId": "9ded96b9-ceda-4b98-c13f-1971e4090a6c"
      },
      "execution_count": 14,
      "outputs": [
        {
          "output_type": "stream",
          "name": "stdout",
          "text": [
            "Labels: [0 1 0 ... 0 0 1]\n",
            "Total labels: 513789\n"
          ]
        }
      ]
    },
    {
      "cell_type": "markdown",
      "source": [
        "## Analysing the clustering results\n",
        "After clustering, we can analyse the results to see which domains belong to which cluster."
      ],
      "metadata": {
        "id": "U-tLgffr60Dd"
      }
    },
    {
      "cell_type": "code",
      "source": [
        "# Print some domains and their assigned cluster label\n",
        "for i, (domain, label) in enumerate(zip(all_domains, labels)):\n",
        "  print(f\"Domain {domain} is in cluster {label}\")\n",
        "  if i == 10: # printing only first 10 as we have 500K+ domains\n",
        "    break"
      ],
      "metadata": {
        "colab": {
          "base_uri": "https://localhost:8080/"
        },
        "id": "HTXFYGiMZgDy",
        "outputId": "6d528496-b10a-4009-89ce-497f8bc090f2"
      },
      "execution_count": 15,
      "outputs": [
        {
          "output_type": "stream",
          "name": "stdout",
          "text": [
            "Domain 0-24h.ru is in cluster 0\n",
            "Domain 0-360.com is in cluster 1\n",
            "Domain 0-50.ru is in cluster 0\n",
            "Domain 0-6.com is in cluster 1\n",
            "Domain 0-investir.com is in cluster 1\n",
            "Domain 0-le-blog.com is in cluster 1\n",
            "Domain 0-s.biz is in cluster 0\n",
            "Domain 0-web.jp is in cluster 0\n",
            "Domain 0-web.ru is in cluster 0\n",
            "Domain 00-000.pl is in cluster 0\n",
            "Domain 00-x.com is in cluster 1\n"
          ]
        }
      ]
    },
    {
      "cell_type": "code",
      "source": [
        "# Separate the domains into their respective clusters\n",
        "cluster_0 = []\n",
        "cluster_1 = []"
      ],
      "metadata": {
        "id": "BWfWUqWJ7gI1"
      },
      "execution_count": 16,
      "outputs": []
    },
    {
      "cell_type": "code",
      "source": [
        "for i, domain in enumerate(all_domains):\n",
        "  if labels[i] == 0:\n",
        "    cluster_0.append(domain)\n",
        "  else:\n",
        "    cluster_1.append(domain)"
      ],
      "metadata": {
        "id": "UTsxSs1v7lzU"
      },
      "execution_count": 17,
      "outputs": []
    },
    {
      "cell_type": "code",
      "source": [
        "print(f\"Number of domains in cluster 0: {len(cluster_0)}\")\n",
        "print(f\"Number of domains in cluster 1: {len(cluster_1)}\")"
      ],
      "metadata": {
        "colab": {
          "base_uri": "https://localhost:8080/"
        },
        "id": "aXNtYMBYZsDB",
        "outputId": "ef360a89-6e1a-481b-ccc6-9bb8922394ba"
      },
      "execution_count": 18,
      "outputs": [
        {
          "output_type": "stream",
          "name": "stdout",
          "text": [
            "Number of domains in cluster 0: 212676\n",
            "Number of domains in cluster 1: 301113\n"
          ]
        }
      ]
    },
    {
      "cell_type": "markdown",
      "source": [
        "### Saving clusters"
      ],
      "metadata": {
        "id": "AMPSwCJY_dD7"
      }
    },
    {
      "cell_type": "code",
      "source": [
        "# Open the output files in write mode\n",
        "with open(\"cluster_0.txt\", 'w') as f:\n",
        "  # Write the good domains to the file\n",
        "  f.write('\\n'.join(cluster_0))\n",
        "\n",
        "with open(\"cluster_1.txt\", 'w') as f:\n",
        "  f.write('\\n'.join(cluster_1))"
      ],
      "metadata": {
        "id": "bLFY2UYj8ZqN"
      },
      "execution_count": 19,
      "outputs": []
    },
    {
      "cell_type": "markdown",
      "source": [
        "You may see one of cluster includes mostly .com domains, and the other one includes domains except .com. Presumably, this is the pattern the K-Means algorithm found out."
      ],
      "metadata": {
        "id": "oBnsXGE4HrMl"
      }
    },
    {
      "cell_type": "markdown",
      "source": [
        "### Elbow method to find optimum number of clusters\n",
        "Earlier we assumed two clusters, which may not be true. The number of cluster can be determined through Elbow plot."
      ],
      "metadata": {
        "id": "7Uj3juVKH1Bg"
      }
    },
    {
      "cell_type": "code",
      "source": [
        "import matplotlib.pyplot as plt\n",
        "\n",
        "K_range = range(1, 15)\n",
        "sse = []\n",
        "for K in K_range:\n",
        "  kmeans = KMeans(n_clusters=K, random_state=0, n_init=10) # n_init=\"auto\")\n",
        "  kmeans.fit(features)\n",
        "  sse.append(kmeans.inertia_)\n",
        "\n",
        "plt.plot(K_range, sse)\n",
        "plt.xlabel(\"K\")\n",
        "plt.ylabel(\"SSE\")"
      ],
      "metadata": {
        "colab": {
          "base_uri": "https://localhost:8080/",
          "height": 466
        },
        "id": "rQFhDVkv5EPK",
        "outputId": "01ff2cbb-609e-4403-9369-d0bae3262c5e"
      },
      "execution_count": 20,
      "outputs": [
        {
          "output_type": "execute_result",
          "data": {
            "text/plain": [
              "Text(0, 0.5, 'SSE')"
            ]
          },
          "metadata": {},
          "execution_count": 20
        },
        {
          "output_type": "display_data",
          "data": {
            "text/plain": [
              "<Figure size 640x480 with 1 Axes>"
            ],
            "image/png": "[encoded data removed]"
          },
          "metadata": {}
        }
      ]
    },
    {
      "cell_type": "markdown",
      "source": [
        "### Silhoutte score"
      ],
      "metadata": {
        "id": "kQyoClUXPnIn"
      }
    },
    {
      "cell_type": "markdown",
      "source": [
        "As mentioned in the [Wikipedia page of Silhouette score](https://en.wikipedia.org/wiki/Silhouette_(clustering)), \"The silhouette value is a measure of how similar an object is to its own cluster (cohesion) compared to other clusters (separation). The silhouette ranges from −1 to +1, where a high value indicates that the object is well matched to its own cluster and poorly matched to neighboring clusters.\""
      ],
      "metadata": {
        "id": "QtUVmHmJPSHQ"
      }
    },
    {
      "cell_type": "code",
      "source": [
        "from sklearn.metrics import silhouette_score\n",
        "\n",
        "# Because of the big size of features, it takes a while to calculate on all samples\n",
        "# To demonstrate, we calculate the score for 10000 samples, as follows:\n",
        "print(\"Silhouette score:\", silhouette_score(features[:10000, :], labels[:10000]))"
      ],
      "metadata": {
        "colab": {
          "base_uri": "https://localhost:8080/"
        },
        "id": "XmzsNIdb0ow2",
        "outputId": "3763ae11-eff8-469b-e994-0e9ac13cdb45"
      },
      "execution_count": 21,
      "outputs": [
        {
          "output_type": "stream",
          "name": "stdout",
          "text": [
            "Silhouette score: 0.1689847820961492\n"
          ]
        }
      ]
    },
    {
      "cell_type": "markdown",
      "source": [
        "## Practice task\n",
        "Instead of the whole dataset, use only the last 5000 domains from each dataset (`good_domains.txt` and `toxic_domains_whole.txt`). Cluster the good and toxic domains and report accuracy, precision and recall."
      ],
      "metadata": {
        "id": "hTT2Bo5S-VkF"
      }
    }
  ]
}